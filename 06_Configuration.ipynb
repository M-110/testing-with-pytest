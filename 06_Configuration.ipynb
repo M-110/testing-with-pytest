{
  "nbformat": 4,
  "nbformat_minor": 0,
  "metadata": {
    "colab": {
      "name": "06_Configuration.ipynb",
      "provenance": [],
      "collapsed_sections": [],
      "authorship_tag": "ABX9TyOBGYHCFm7Ooovqc06PUb0I",
      "include_colab_link": true
    },
    "kernelspec": {
      "name": "python3",
      "display_name": "Python 3"
    },
    "language_info": {
      "name": "python"
    }
  },
  "cells": [
    {
      "cell_type": "markdown",
      "metadata": {
        "id": "view-in-github",
        "colab_type": "text"
      },
      "source": [
        "<a href=\"https://colab.research.google.com/github/M-110/testing-with-pytest/blob/main/06_Configuration.ipynb\" target=\"_parent\"><img src=\"https://colab.research.google.com/assets/colab-badge.svg\" alt=\"Open In Colab\"/></a>"
      ]
    },
    {
      "cell_type": "markdown",
      "metadata": {
        "id": "08jvgp976ZsA"
      },
      "source": [
        "# Config files\n",
        "\n",
        "* pytest.ini: Main file which allows you to change the default behavior.\n",
        "\n",
        "* conftest.py: local plugin to allow hook functions and fixtures for the directory where the confest.py file exists and all subdirectories. \n",
        "\n",
        "* \\_\\_init__.py: when put into every subdirectory, this file allows you to have the identical test filenames in multiple test directories.\n",
        "\n",
        "* setup.py: This is a file in the ini format that effects the behavior of setup.py."
      ]
    },
    {
      "cell_type": "code",
      "metadata": {
        "id": "tRFqmFpa5vxM"
      },
      "source": [
        "%%writefile pytest.ini\n",
        "[pytest]\n",
        "addopts = '-rsxX -l --tb=short --strict'\n",
        "xfail_strict = true\n",
        "..."
      ],
      "execution_count": null,
      "outputs": []
    },
    {
      "cell_type": "code",
      "metadata": {
        "id": "J8xnMEpm7BfZ"
      },
      "source": [
        "%%writefile setup.cfg\n",
        "# Package specific stuff\n",
        "\n",
        "[tool:pytest]\n",
        "addopts = '-rsxX -l --tb=short --strict'\n",
        "xfail_strict = true\n",
        "..."
      ],
      "execution_count": null,
      "outputs": []
    },
    {
      "cell_type": "code",
      "metadata": {
        "id": "JUmq3yzl7iC7"
      },
      "source": [
        "!pytest --help "
      ],
      "execution_count": null,
      "outputs": []
    },
    {
      "cell_type": "markdown",
      "metadata": {
        "id": "YEhNYBzP7_Cw"
      },
      "source": [
        "# Registering markers to avoid marker typos"
      ]
    },
    {
      "cell_type": "code",
      "metadata": {
        "colab": {
          "base_uri": "https://localhost:8080/"
        },
        "id": "QnSvvZZZ7iuA",
        "outputId": "98b99a7c-d016-47c6-8bf5-0227a1deb9e3"
      },
      "source": [
        "%%writefile pytest.ini\n",
        "[pytest]\n",
        "markers =\n",
        "  smoke: Run the smoke tests\n",
        "  get: Run the test functions that test get"
      ],
      "execution_count": null,
      "outputs": [
        {
          "output_type": "stream",
          "text": [
            "Writing pytest.ini\n"
          ],
          "name": "stdout"
        }
      ]
    },
    {
      "cell_type": "code",
      "metadata": {
        "colab": {
          "base_uri": "https://localhost:8080/"
        },
        "id": "fWZkTVdX8REj",
        "outputId": "04ff9977-2898-48a3-926f-64659637d1c7"
      },
      "source": [
        "!pytest --markers"
      ],
      "execution_count": null,
      "outputs": [
        {
          "output_type": "stream",
          "text": [
            "\u001b[1m@pytest.mark.smoke:\u001b[0m Run the smoke tests\n",
            "\n",
            "\u001b[1m@pytest.mark.get:\u001b[0m Run the test functions that test get\n",
            "\n",
            "\u001b[1m@pytest.mark.skip(reason=None):\u001b[0m skip the given test function with an optional reason. Example: skip(reason=\"no way of currently testing this\") skips the test.\n",
            "\n",
            "\u001b[1m@pytest.mark.skipif(condition):\u001b[0m skip the given test function if eval(condition) results in a True value.  Evaluation happens within the module global context. Example: skipif('sys.platform == \"win32\"') skips the test if we are on the win32 platform. see http://pytest.org/latest/skipping.html\n",
            "\n",
            "\u001b[1m@pytest.mark.xfail(condition, reason=None, run=True, raises=None, strict=False):\u001b[0m mark the test function as an expected failure if eval(condition) has a True value. Optionally specify a reason for better reporting and run=False if you don't even want to execute the test function. If only specific exception(s) are expected, you can list them in raises, and if the test fails in other ways, it will be reported as a true failure. See http://pytest.org/latest/skipping.html\n",
            "\n",
            "\u001b[1m@pytest.mark.parametrize(argnames, argvalues):\u001b[0m call a test function multiple times passing in different arguments in turn. argvalues generally needs to be a list of values if argnames specifies only one name or a list of tuples of values if argnames specifies multiple names. Example: @parametrize('arg1', [1,2]) would lead to two calls of the decorated test function, one with arg1=1 and another with arg1=2.see http://pytest.org/latest/parametrize.html for more info and examples.\n",
            "\n",
            "\u001b[1m@pytest.mark.usefixtures(fixturename1, fixturename2, ...):\u001b[0m mark tests as needing all of the specified fixtures. see http://pytest.org/latest/fixture.html#usefixtures \n",
            "\n",
            "\u001b[1m@pytest.mark.tryfirst:\u001b[0m mark a hook implementation function such that the plugin machinery will try to call it first/as early as possible.\n",
            "\n",
            "\u001b[1m@pytest.mark.trylast:\u001b[0m mark a hook implementation function such that the plugin machinery will try to call it last/as late as possible.\n",
            "\n"
          ],
          "name": "stdout"
        }
      ]
    },
    {
      "cell_type": "code",
      "metadata": {
        "colab": {
          "base_uri": "https://localhost:8080/"
        },
        "id": "Ou5MWZJd8RrN",
        "outputId": "a57efed6-c6f7-4390-abdc-d25d2380ba14"
      },
      "source": [
        "%%writefile test_stuff.py\n",
        "import pytest\n",
        "\n",
        "@pytest.mark.smoke()\n",
        "def test_this():\n",
        "  assert 1 == 1\n",
        "\n",
        "@pytest.mark.smok()\n",
        "def test_that():\n",
        "  assert True"
      ],
      "execution_count": null,
      "outputs": [
        {
          "output_type": "stream",
          "text": [
            "Writing test_stuff.py\n"
          ],
          "name": "stdout"
        }
      ]
    },
    {
      "cell_type": "code",
      "metadata": {
        "colab": {
          "base_uri": "https://localhost:8080/"
        },
        "id": "diO_bvJQ8oxE",
        "outputId": "d94f723f-53ea-4be5-f65c-16a8ac7189e6"
      },
      "source": [
        "!pytest --strict -v --tb=short"
      ],
      "execution_count": null,
      "outputs": [
        {
          "output_type": "stream",
          "text": [
            "\u001b[1m============================= test session starts ==============================\u001b[0m\n",
            "platform linux2 -- Python 2.7.17, pytest-3.6.4, py-1.8.0, pluggy-0.7.1 -- /usr/bin/python2\n",
            "cachedir: .pytest_cache\n",
            "rootdir: /content, inifile: pytest.ini\n",
            "\u001b[1m\rcollecting 0 items                                                             \u001b[0m\u001b[1m\rcollecting 0 items / 1 errors                                                  \u001b[0m\u001b[1m\rcollected 0 items / 1 errors                                                   \u001b[0m\n",
            "\n",
            "==================================== ERRORS ====================================\n",
            "________________________ ERROR collecting test_stuff.py ________________________\n",
            "\u001b[1m\u001b[31mtest_stuff.py\u001b[0m:7: in <module>\n",
            "\u001b[1m    @pytest.mark.smok()\u001b[0m\n",
            "\u001b[1m\u001b[31m/usr/local/lib/python2.7/dist-packages/_pytest/mark/structures.py\u001b[0m:367: in __getattr__\n",
            "\u001b[1m    self._check(name)\u001b[0m\n",
            "\u001b[1m\u001b[31m/usr/local/lib/python2.7/dist-packages/_pytest/mark/structures.py\u001b[0m:383: in _check\n",
            "\u001b[1m    raise AttributeError(\"%r not a registered marker\" % (name,))\u001b[0m\n",
            "\u001b[1m\u001b[31mE   AttributeError: 'smok' not a registered marker\u001b[0m\n",
            "!!!!!!!!!!!!!!!!!!! Interrupted: 1 errors during collection !!!!!!!!!!!!!!!!!!!!\n",
            "\u001b[1m\u001b[31m=========================== 1 error in 0.06 seconds ============================\u001b[0m\n"
          ],
          "name": "stdout"
        }
      ]
    },
    {
      "cell_type": "markdown",
      "metadata": {
        "id": "-5drsad28_Xx"
      },
      "source": [
        "# Require minimum pytest version"
      ]
    },
    {
      "cell_type": "code",
      "metadata": {
        "colab": {
          "base_uri": "https://localhost:8080/"
        },
        "id": "kjtflQll8p1J",
        "outputId": "2720a9b4-35e6-48b0-aedd-1d4d133c306f"
      },
      "source": [
        "%%writefile pytest.ini\n",
        "[pytest]\n",
        "minversion = 3.0"
      ],
      "execution_count": null,
      "outputs": [
        {
          "output_type": "stream",
          "text": [
            "Overwriting pytest.ini\n"
          ],
          "name": "stdout"
        }
      ]
    },
    {
      "cell_type": "code",
      "metadata": {
        "colab": {
          "base_uri": "https://localhost:8080/"
        },
        "id": "IpAMp2ZZ9RQS",
        "outputId": "05fc1b42-13c1-49b4-cc15-70f2400c3885"
      },
      "source": [
        "!pytest"
      ],
      "execution_count": null,
      "outputs": [
        {
          "output_type": "stream",
          "text": [
            "\u001b[1m============================= test session starts ==============================\u001b[0m\n",
            "platform linux2 -- Python 2.7.17, pytest-3.6.4, py-1.8.0, pluggy-0.7.1\n",
            "rootdir: /content, inifile: pytest.ini\n",
            "\u001b[1m\rcollecting 0 items                                                             \u001b[0m\u001b[1m\rcollecting 2 items                                                             \u001b[0m\u001b[1m\rcollected 2 items                                                              \u001b[0m\n",
            "\n",
            "test_stuff.py ..\u001b[36m                                                         [100%]\u001b[0m\n",
            "\n",
            "\u001b[32m\u001b[1m=========================== 2 passed in 0.01 seconds ===========================\u001b[0m\n"
          ],
          "name": "stdout"
        }
      ]
    },
    {
      "cell_type": "markdown",
      "metadata": {
        "id": "D75PvlII9Vv-"
      },
      "source": [
        "# stopping pytest from looking in the wrong places."
      ]
    },
    {
      "cell_type": "code",
      "metadata": {
        "colab": {
          "base_uri": "https://localhost:8080/"
        },
        "id": "2EMkBlFo9R6R",
        "outputId": "59bcff25-ecb1-4a19-80b3-22b91d5900f4"
      },
      "source": [
        "%%writefile pytest.ini\n",
        "[pytest]\n",
        "norecursedirs = venv"
      ],
      "execution_count": null,
      "outputs": [
        {
          "output_type": "stream",
          "text": [
            "Overwriting pytest.ini\n"
          ],
          "name": "stdout"
        }
      ]
    },
    {
      "cell_type": "code",
      "metadata": {
        "colab": {
          "base_uri": "https://localhost:8080/"
        },
        "id": "faZWUvKF9tpo",
        "outputId": "c677a8f6-7e85-4d5b-a20d-70e95d472edd"
      },
      "source": [
        "!mkdir 'venv'"
      ],
      "execution_count": null,
      "outputs": [
        {
          "output_type": "stream",
          "text": [
            "mkdir: cannot create directory ‘venv’: File exists\n"
          ],
          "name": "stdout"
        }
      ]
    },
    {
      "cell_type": "code",
      "metadata": {
        "colab": {
          "base_uri": "https://localhost:8080/"
        },
        "id": "Te-g4qkx9w6F",
        "outputId": "caa24616-f029-4b09-8c06-c5ffa3c9f7a2"
      },
      "source": [
        "%%writefile venv/test_other.py\n",
        "def test_hidden():\n",
        "  assert False"
      ],
      "execution_count": null,
      "outputs": [
        {
          "output_type": "stream",
          "text": [
            "Overwriting venv/test_other.py\n"
          ],
          "name": "stdout"
        }
      ]
    },
    {
      "cell_type": "code",
      "metadata": {
        "colab": {
          "base_uri": "https://localhost:8080/"
        },
        "id": "HleAAJy-927s",
        "outputId": "5775d1e5-742e-4230-c04a-f825db8f14a5"
      },
      "source": [
        "!pytest -v # Didn't search in the venv directory for a test"
      ],
      "execution_count": null,
      "outputs": [
        {
          "output_type": "stream",
          "text": [
            "\u001b[1m============================= test session starts ==============================\u001b[0m\n",
            "platform linux2 -- Python 2.7.17, pytest-3.6.4, py-1.8.0, pluggy-0.7.1 -- /usr/bin/python2\n",
            "cachedir: .pytest_cache\n",
            "rootdir: /content, inifile: pytest.ini\n",
            "\u001b[1m\rcollecting 0 items                                                             \u001b[0m\u001b[1m\rcollecting 2 items                                                             \u001b[0m\u001b[1m\rcollected 2 items                                                              \u001b[0m\n",
            "\n",
            "test_stuff.py::test_this \u001b[32mPASSED\u001b[0m\u001b[36m                                          [ 50%]\u001b[0m\n",
            "test_stuff.py::test_that \u001b[32mPASSED\u001b[0m\u001b[36m                                          [100%]\u001b[0m\n",
            "\n",
            "\u001b[32m\u001b[1m=========================== 2 passed in 0.01 seconds ===========================\u001b[0m\n"
          ],
          "name": "stdout"
        }
      ]
    },
    {
      "cell_type": "markdown",
      "metadata": {
        "id": "M_rgV951-L86"
      },
      "source": [
        "# Specifying Test Directory Locations\n",
        "\n",
        "testspaths"
      ]
    },
    {
      "cell_type": "code",
      "metadata": {
        "colab": {
          "base_uri": "https://localhost:8080/"
        },
        "id": "VhF9q3E794MF",
        "outputId": "8d4bc072-18f6-4f8b-d6f6-9c2ba6d5611e"
      },
      "source": [
        "%%writefile pytest.ini\n",
        "[pytest]\n",
        "testpaths = tests"
      ],
      "execution_count": null,
      "outputs": [
        {
          "output_type": "stream",
          "text": [
            "Overwriting pytest.ini\n"
          ],
          "name": "stdout"
        }
      ]
    },
    {
      "cell_type": "code",
      "metadata": {
        "id": "scnWjBp--hap"
      },
      "source": [
        "!mkdir tests"
      ],
      "execution_count": null,
      "outputs": []
    },
    {
      "cell_type": "code",
      "metadata": {
        "colab": {
          "base_uri": "https://localhost:8080/"
        },
        "id": "yJqhh7EQ-W7Q",
        "outputId": "a803e9d9-41a0-4be0-f1ba-5d5b7698bbab"
      },
      "source": [
        "%%writefile tests/test_more.py\n",
        "def test_more():\n",
        "  assert 1\n"
      ],
      "execution_count": null,
      "outputs": [
        {
          "output_type": "stream",
          "text": [
            "Writing tests/test_more.py\n"
          ],
          "name": "stdout"
        }
      ]
    },
    {
      "cell_type": "code",
      "metadata": {
        "colab": {
          "base_uri": "https://localhost:8080/"
        },
        "id": "et8l0t1C-f0X",
        "outputId": "f00406e0-19df-4160-e45b-27b34fbedcb9"
      },
      "source": [
        "!pytest"
      ],
      "execution_count": null,
      "outputs": [
        {
          "output_type": "stream",
          "text": [
            "\u001b[1m============================= test session starts ==============================\u001b[0m\n",
            "platform linux2 -- Python 2.7.17, pytest-3.6.4, py-1.8.0, pluggy-0.7.1\n",
            "rootdir: /content, inifile: pytest.ini\n",
            "\u001b[1m\rcollecting 0 items                                                             \u001b[0m\u001b[1m\rcollecting 1 item                                                              \u001b[0m\u001b[1m\rcollected 1 item                                                               \u001b[0m\n",
            "\n",
            "tests/test_more.py .\u001b[36m                                                     [100%]\u001b[0m\n",
            "\n",
            "\u001b[32m\u001b[1m=========================== 1 passed in 0.02 seconds ===========================\u001b[0m\n"
          ],
          "name": "stdout"
        }
      ]
    },
    {
      "cell_type": "markdown",
      "metadata": {
        "id": "uKyr3ip6-wLp"
      },
      "source": [
        "# Changing test discovery rules\n",
        "\n",
        "by default it looks for test_* or *_test and classes use Test* *Test\n",
        "\n",
        "You can change this to find things with *Suite:"
      ]
    },
    {
      "cell_type": "code",
      "metadata": {
        "colab": {
          "base_uri": "https://localhost:8080/"
        },
        "id": "Y74I98V--yVv",
        "outputId": "6faa81f0-2075-4b47-a996-951be5b10971"
      },
      "source": [
        "%%writefile pytest.ini\n",
        "[pytest]\n",
        "python_classes = *Test Test* *Suite"
      ],
      "execution_count": null,
      "outputs": [
        {
          "output_type": "stream",
          "text": [
            "Overwriting pytest.ini\n"
          ],
          "name": "stdout"
        }
      ]
    },
    {
      "cell_type": "code",
      "metadata": {
        "colab": {
          "base_uri": "https://localhost:8080/"
        },
        "id": "TZjjEnwt-jvD",
        "outputId": "f6b2d77d-6f7c-4949-ac97-b60050a8633f"
      },
      "source": [
        "%%writefile test_suite.py\n",
        "class GreatSuite:\n",
        "  def test_this(self):\n",
        "    assert 1\n",
        "  \n",
        "  def test_that(self):\n",
        "    assert 1"
      ],
      "execution_count": null,
      "outputs": [
        {
          "output_type": "stream",
          "text": [
            "Overwriting test_suite.py\n"
          ],
          "name": "stdout"
        }
      ]
    },
    {
      "cell_type": "code",
      "metadata": {
        "colab": {
          "base_uri": "https://localhost:8080/"
        },
        "id": "uGNumKDx_YuQ",
        "outputId": "1eb08e44-8aca-4a42-ff52-a133037201b8"
      },
      "source": [
        "!pytest -v"
      ],
      "execution_count": null,
      "outputs": [
        {
          "output_type": "stream",
          "text": [
            "\u001b[1m============================= test session starts ==============================\u001b[0m\n",
            "platform linux2 -- Python 2.7.17, pytest-3.6.4, py-1.8.0, pluggy-0.7.1 -- /usr/bin/python2\n",
            "cachedir: .pytest_cache\n",
            "rootdir: /content, inifile: pytest.ini\n",
            "\u001b[1m\rcollecting 0 items                                                             \u001b[0m\u001b[1m\rcollecting 2 items                                                             \u001b[0m\u001b[1m\rcollecting 4 items                                                             \u001b[0m\u001b[1m\rcollecting 4 items                                                             \u001b[0m\u001b[1m\rcollecting 4 items                                                             \u001b[0m\u001b[1m\rcollecting 5 items                                                             \u001b[0m\u001b[1m\rcollected 5 items                                                              \u001b[0m\n",
            "\n",
            "test_stuff.py::test_this \u001b[32mPASSED\u001b[0m\u001b[36m                                          [ 20%]\u001b[0m\n",
            "test_stuff.py::test_that \u001b[32mPASSED\u001b[0m\u001b[36m                                          [ 40%]\u001b[0m\n",
            "test_suite.py::GreatSuite::test_this \u001b[32mPASSED\u001b[0m\u001b[36m                              [ 60%]\u001b[0m\n",
            "test_suite.py::GreatSuite::test_that \u001b[32mPASSED\u001b[0m\u001b[36m                              [ 80%]\u001b[0m\n",
            "tests/test_more.py::test_more \u001b[32mPASSED\u001b[0m\u001b[36m                                     [100%]\u001b[0m\n",
            "\n",
            "\u001b[32m\u001b[1m=========================== 5 passed in 0.02 seconds ===========================\u001b[0m\n"
          ],
          "name": "stdout"
        }
      ]
    },
    {
      "cell_type": "markdown",
      "metadata": {
        "id": "89Owc6Ln_-6F"
      },
      "source": [
        "Finding tests that start with check_"
      ]
    },
    {
      "cell_type": "code",
      "metadata": {
        "colab": {
          "base_uri": "https://localhost:8080/"
        },
        "id": "_4EkB39R_ZVP",
        "outputId": "ee9488a5-2171-4ac0-ff3b-671c8702ec94"
      },
      "source": [
        "%%writefile pytest.ini\n",
        "[pytest]\n",
        "python_classes = *Test Test* *Suite\n",
        "python_files = test_* *_test check_*\n",
        "python_functions = test_* check_*"
      ],
      "execution_count": null,
      "outputs": [
        {
          "output_type": "stream",
          "text": [
            "Overwriting pytest.ini\n"
          ],
          "name": "stdout"
        }
      ]
    },
    {
      "cell_type": "code",
      "metadata": {
        "colab": {
          "base_uri": "https://localhost:8080/"
        },
        "id": "V4M-xGAT_2NN",
        "outputId": "b204f0b4-6ab8-48be-cb31-fcaab4661959"
      },
      "source": [
        "%%writefile check_stuff.py\n",
        "def check_this():\n",
        "  assert 1\n",
        "\n",
        "def check_that():\n",
        "  assert 2"
      ],
      "execution_count": null,
      "outputs": [
        {
          "output_type": "stream",
          "text": [
            "Writing check_stuff.py\n"
          ],
          "name": "stdout"
        }
      ]
    },
    {
      "cell_type": "code",
      "metadata": {
        "colab": {
          "base_uri": "https://localhost:8080/"
        },
        "id": "enz8LTgb_7RE",
        "outputId": "a56eb321-d843-4f0c-e6ea-2631941533ea"
      },
      "source": [
        "!pytest -v"
      ],
      "execution_count": null,
      "outputs": [
        {
          "output_type": "stream",
          "text": [
            "\u001b[1m============================= test session starts ==============================\u001b[0m\n",
            "platform linux2 -- Python 2.7.17, pytest-3.6.4, py-1.8.0, pluggy-0.7.1 -- /usr/bin/python2\n",
            "cachedir: .pytest_cache\n",
            "rootdir: /content, inifile: pytest.ini\n",
            "\u001b[1m\rcollecting 0 items                                                             \u001b[0m\u001b[1m\rcollecting 2 items                                                             \u001b[0m\u001b[1m\rcollecting 4 items                                                             \u001b[0m\u001b[1m\rcollecting 6 items                                                             \u001b[0m\u001b[1m\rcollecting 6 items                                                             \u001b[0m\u001b[1m\rcollecting 6 items                                                             \u001b[0m\u001b[1m\rcollecting 7 items                                                             \u001b[0m\u001b[1m\rcollected 7 items                                                              \u001b[0m\n",
            "\n",
            "check_stuff.py::check_this \u001b[32mPASSED\u001b[0m\u001b[36m                                        [ 14%]\u001b[0m\n",
            "check_stuff.py::check_that \u001b[32mPASSED\u001b[0m\u001b[36m                                        [ 28%]\u001b[0m\n",
            "test_stuff.py::test_this \u001b[32mPASSED\u001b[0m\u001b[36m                                          [ 42%]\u001b[0m\n",
            "test_stuff.py::test_that \u001b[32mPASSED\u001b[0m\u001b[36m                                          [ 57%]\u001b[0m\n",
            "test_suite.py::GreatSuite::test_this \u001b[32mPASSED\u001b[0m\u001b[36m                              [ 71%]\u001b[0m\n",
            "test_suite.py::GreatSuite::test_that \u001b[32mPASSED\u001b[0m\u001b[36m                              [ 85%]\u001b[0m\n",
            "tests/test_more.py::test_more \u001b[32mPASSED\u001b[0m\u001b[36m                                     [100%]\u001b[0m\n",
            "\n",
            "\u001b[32m\u001b[1m=========================== 7 passed in 0.03 seconds ===========================\u001b[0m\n"
          ],
          "name": "stdout"
        }
      ]
    },
    {
      "cell_type": "markdown",
      "metadata": {
        "id": "fWoEgav4AC9N"
      },
      "source": [
        "# Disallowing XPASS\n",
        "\n",
        "seems like this should always be set"
      ]
    },
    {
      "cell_type": "code",
      "metadata": {
        "colab": {
          "base_uri": "https://localhost:8080/"
        },
        "id": "myr9jvboAQfs",
        "outputId": "ece5d7d5-fe80-4413-9b57-426b5157c64d"
      },
      "source": [
        "%%writefile xpass_test.py\n",
        "import pytest\n",
        "\n",
        "@pytest.mark.xfail\n",
        "def test_xpass():\n",
        "  pass"
      ],
      "execution_count": null,
      "outputs": [
        {
          "output_type": "stream",
          "text": [
            "Writing xpass_test.py\n"
          ],
          "name": "stdout"
        }
      ]
    },
    {
      "cell_type": "code",
      "metadata": {
        "colab": {
          "base_uri": "https://localhost:8080/"
        },
        "id": "_xobK-BTAp7A",
        "outputId": "149f3a58-3d27-4158-bb83-26dddcece93c"
      },
      "source": [
        "!pytest xpass_test.py -v"
      ],
      "execution_count": null,
      "outputs": [
        {
          "output_type": "stream",
          "text": [
            "\u001b[1m============================= test session starts ==============================\u001b[0m\n",
            "platform linux2 -- Python 2.7.17, pytest-3.6.4, py-1.8.0, pluggy-0.7.1 -- /usr/bin/python2\n",
            "cachedir: .pytest_cache\n",
            "rootdir: /content, inifile: pytest.ini\n",
            "\u001b[1m\rcollecting 0 items                                                             \u001b[0m\u001b[1m\rcollecting 1 item                                                              \u001b[0m\u001b[1m\rcollected 1 item                                                               \u001b[0m\n",
            "\n",
            "xpass_test.py::test_xpass \u001b[33mXPASS\u001b[0m\u001b[36m                                          [100%]\u001b[0m\n",
            "\n",
            "\u001b[1m\u001b[33m========================== 1 xpassed in 0.01 seconds ===========================\u001b[0m\n"
          ],
          "name": "stdout"
        }
      ]
    },
    {
      "cell_type": "code",
      "metadata": {
        "colab": {
          "base_uri": "https://localhost:8080/"
        },
        "id": "xMl1lkxI_7qz",
        "outputId": "d82fe00a-c16b-4c82-ea37-70930dfc0ddb"
      },
      "source": [
        "%%writefile pytest.ini\n",
        "[pytest]\n",
        "xfail_strict = true"
      ],
      "execution_count": null,
      "outputs": [
        {
          "output_type": "stream",
          "text": [
            "Overwriting pytest.ini\n"
          ],
          "name": "stdout"
        }
      ]
    },
    {
      "cell_type": "code",
      "metadata": {
        "colab": {
          "base_uri": "https://localhost:8080/"
        },
        "id": "n5b2vFZVAtMw",
        "outputId": "fec3c650-fe80-449b-e0fc-12162b3ec0f1"
      },
      "source": [
        "!pytest xpass_test.py -v"
      ],
      "execution_count": null,
      "outputs": [
        {
          "output_type": "stream",
          "text": [
            "\u001b[1m============================= test session starts ==============================\u001b[0m\n",
            "platform linux2 -- Python 2.7.17, pytest-3.6.4, py-1.8.0, pluggy-0.7.1 -- /usr/bin/python2\n",
            "cachedir: .pytest_cache\n",
            "rootdir: /content, inifile: pytest.ini\n",
            "\u001b[1m\rcollecting 0 items                                                             \u001b[0m\u001b[1m\rcollecting 1 item                                                              \u001b[0m\u001b[1m\rcollected 1 item                                                               \u001b[0m\n",
            "\n",
            "xpass_test.py::test_xpass \u001b[31mFAILED\u001b[0m\u001b[36m                                         [100%]\u001b[0m\n",
            "\n",
            "=================================== FAILURES ===================================\n",
            "\u001b[1m\u001b[31m__________________________________ test_xpass __________________________________\u001b[0m\n",
            "[XPASS(strict)] \n",
            "\u001b[1m\u001b[31m=========================== 1 failed in 0.01 seconds ===========================\u001b[0m\n"
          ],
          "name": "stdout"
        }
      ]
    },
    {
      "cell_type": "markdown",
      "metadata": {
        "id": "FCVxnVicA1QE"
      },
      "source": [
        "#Avoiding Filename Collisions\n",
        "\n",
        "by adding an __ini__.py file into the directories"
      ]
    },
    {
      "cell_type": "code",
      "metadata": {
        "id": "6u3d_6MxAt8U"
      },
      "source": [
        "!mkdir a b"
      ],
      "execution_count": null,
      "outputs": []
    },
    {
      "cell_type": "code",
      "metadata": {
        "colab": {
          "base_uri": "https://localhost:8080/"
        },
        "id": "OMZzyZgsBI5f",
        "outputId": "d47f5c94-d275-42a4-b59a-9abcd2c6dbfc"
      },
      "source": [
        "%%writefile a/test_me.py\n",
        "def test_it():\n",
        "  assert 1"
      ],
      "execution_count": null,
      "outputs": [
        {
          "output_type": "stream",
          "text": [
            "Writing a/test_me.py\n"
          ],
          "name": "stdout"
        }
      ]
    },
    {
      "cell_type": "code",
      "metadata": {
        "colab": {
          "base_uri": "https://localhost:8080/"
        },
        "id": "Uy6rvkcOBOrU",
        "outputId": "8bcc3d05-31fd-448f-b9b9-04220907e841"
      },
      "source": [
        "%%writefile b/test_me.py\n",
        "def test_it():\n",
        "  assert 1"
      ],
      "execution_count": null,
      "outputs": [
        {
          "output_type": "stream",
          "text": [
            "Writing b/test_me.py\n"
          ],
          "name": "stdout"
        }
      ]
    },
    {
      "cell_type": "code",
      "metadata": {
        "colab": {
          "base_uri": "https://localhost:8080/"
        },
        "id": "E48FhN7MBQw0",
        "outputId": "83f9e310-9620-49be-b32b-2b0e8667a2f5"
      },
      "source": [
        "!pytest"
      ],
      "execution_count": null,
      "outputs": [
        {
          "output_type": "stream",
          "text": [
            "\u001b[1m============================= test session starts ==============================\u001b[0m\n",
            "platform linux2 -- Python 2.7.17, pytest-3.6.4, py-1.8.0, pluggy-0.7.1\n",
            "rootdir: /content, inifile: pytest.ini\n",
            "\u001b[1m\rcollecting 0 items                                                             \u001b[0m\u001b[1m\rcollecting 2 items                                                             \u001b[0m\u001b[1m\rcollecting 2 items                                                             \u001b[0m\u001b[1m\rcollecting 3 items                                                             \u001b[0m\u001b[1m\rcollecting 4 items                                                             \u001b[0m\u001b[1m\rcollecting 4 items / 1 errors                                                  \u001b[0m\u001b[1m\rcollecting 5 items / 1 errors                                                  \u001b[0m\u001b[1m\rcollected 5 items / 1 errors                                                   \u001b[0m\n",
            "\n",
            "==================================== ERRORS ====================================\n",
            "________________________ ERROR collecting b/test_me.py _________________________\n",
            "\u001b[31mimport file mismatch:\n",
            "imported module 'test_me' has this __file__ attribute:\n",
            "  /content/a/test_me.py\n",
            "which is not the same as the test file we want to collect:\n",
            "  /content/b/test_me.py\n",
            "HINT: remove __pycache__ / .pyc files and/or use a unique basename for your test file modules\u001b[0m\n",
            "!!!!!!!!!!!!!!!!!!! Interrupted: 1 errors during collection !!!!!!!!!!!!!!!!!!!!\n",
            "\u001b[1m\u001b[31m=========================== 1 error in 0.08 seconds ============================\u001b[0m\n"
          ],
          "name": "stdout"
        }
      ]
    },
    {
      "cell_type": "code",
      "metadata": {
        "id": "MEpjxVe4BRfg"
      },
      "source": [
        "!touch a/__init__.py b/__init__.py"
      ],
      "execution_count": null,
      "outputs": []
    },
    {
      "cell_type": "code",
      "metadata": {
        "colab": {
          "base_uri": "https://localhost:8080/"
        },
        "id": "ukX3D8WGBYgC",
        "outputId": "2b1813a2-48c7-4d6d-9668-34088e2968a7"
      },
      "source": [
        "!pytest -v"
      ],
      "execution_count": null,
      "outputs": [
        {
          "output_type": "stream",
          "text": [
            "\u001b[1m============================= test session starts ==============================\u001b[0m\n",
            "platform linux2 -- Python 2.7.17, pytest-3.6.4, py-1.8.0, pluggy-0.7.1 -- /usr/bin/python2\n",
            "cachedir: .pytest_cache\n",
            "rootdir: /content, inifile: pytest.ini\n",
            "\u001b[1m\rcollecting 0 items                                                             \u001b[0m\u001b[1m\rcollecting 2 items                                                             \u001b[0m\u001b[1m\rcollecting 2 items                                                             \u001b[0m\u001b[1m\rcollecting 3 items                                                             \u001b[0m\u001b[1m\rcollecting 4 items                                                             \u001b[0m\u001b[1m\rcollecting 5 items                                                             \u001b[0m\u001b[1m\rcollecting 6 items                                                             \u001b[0m\u001b[1m\rcollected 6 items                                                              \u001b[0m\n",
            "\n",
            "test_stuff.py::test_this \u001b[32mPASSED\u001b[0m\u001b[36m                                          [ 16%]\u001b[0m\n",
            "test_stuff.py::test_that \u001b[32mPASSED\u001b[0m\u001b[36m                                          [ 33%]\u001b[0m\n",
            "xpass_test.py::test_xpass \u001b[31mFAILED\u001b[0m\u001b[36m                                         [ 50%]\u001b[0m\n",
            "a/test_me.py::test_it \u001b[32mPASSED\u001b[0m\u001b[36m                                             [ 66%]\u001b[0m\n",
            "b/test_me.py::test_it \u001b[32mPASSED\u001b[0m\u001b[36m                                             [ 83%]\u001b[0m\n",
            "tests/test_more.py::test_more \u001b[32mPASSED\u001b[0m\u001b[36m                                     [100%]\u001b[0m\n",
            "\n",
            "=================================== FAILURES ===================================\n",
            "\u001b[1m\u001b[31m__________________________________ test_xpass __________________________________\u001b[0m\n",
            "[XPASS(strict)] \n",
            "\u001b[1m\u001b[31m====================== 1 failed, 5 passed in 0.03 seconds ======================\u001b[0m\n"
          ],
          "name": "stdout"
        }
      ]
    }
  ]
}