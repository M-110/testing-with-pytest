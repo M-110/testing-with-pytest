{
  "nbformat": 4,
  "nbformat_minor": 0,
  "metadata": {
    "colab": {
      "name": "1_Getting_Started_With_Pytest.ipynb",
      "provenance": [],
      "collapsed_sections": [],
      "authorship_tag": "ABX9TyMy6KXDRyHrud76bn6g3J3K",
      "include_colab_link": true
    },
    "kernelspec": {
      "name": "python3",
      "display_name": "Python 3"
    },
    "language_info": {
      "name": "python"
    }
  },
  "cells": [
    {
      "cell_type": "markdown",
      "metadata": {
        "id": "view-in-github",
        "colab_type": "text"
      },
      "source": [
        "<a href=\"https://colab.research.google.com/github/M-110/testing-with-pytest/blob/main/1_Getting_Started_With_Pytest.ipynb\" target=\"_parent\"><img src=\"https://colab.research.google.com/assets/colab-badge.svg\" alt=\"Open In Colab\"/></a>"
      ]
    },
    {
      "cell_type": "markdown",
      "source": [
        "# Highlights:\n",
        "\n",
        "* marks"
      ],
      "metadata": {
        "id": "zpEYqjJY5xfd"
      }
    },
    {
      "cell_type": "code",
      "metadata": {
        "id": "mS92S4xIejCm"
      },
      "source": [
        "# from google.colab import drive\n",
        "\n",
        "# drive.mount('/content/drive')\n",
        "\n",
        "# os.chdir('drive/MyDrive/ColabNotebooks/PyTest/')"
      ],
      "execution_count": null,
      "outputs": []
    },
    {
      "cell_type": "code",
      "metadata": {
        "id": "G8nAR29nln9d"
      },
      "source": [
        "from IPython.core.magic import register_line_magic"
      ],
      "execution_count": null,
      "outputs": []
    },
    {
      "cell_type": "code",
      "metadata": {
        "id": "Rae94xTGlpei"
      },
      "source": [
        "@register_line_magic\n",
        "def pytest(line):\n",
        "  \"\"\"Shortcut for pytest with python3.\"\"\"\n",
        "  !python3 -m pytest $line"
      ],
      "execution_count": null,
      "outputs": []
    },
    {
      "cell_type": "code",
      "metadata": {
        "id": "Sl-IgAGKiFcj"
      },
      "source": [
        "import os"
      ],
      "execution_count": null,
      "outputs": []
    },
    {
      "cell_type": "code",
      "metadata": {
        "id": "tybJPeaUidAB"
      },
      "source": [
        "os.mkdir('ch1')"
      ],
      "execution_count": null,
      "outputs": []
    },
    {
      "cell_type": "code",
      "metadata": {
        "id": "pEbEGK71idpv"
      },
      "source": [
        "os.chdir('ch1')"
      ],
      "execution_count": null,
      "outputs": []
    },
    {
      "cell_type": "code",
      "metadata": {
        "colab": {
          "base_uri": "https://localhost:8080/"
        },
        "id": "Go4rbNeRf3fx",
        "outputId": "56b0d327-567f-4d9d-d1cf-eb2f498864fa"
      },
      "source": [
        "%%writefile test_one.py\n",
        "\n",
        "\n",
        "def test_passing():\n",
        "  assert 1 == 1"
      ],
      "execution_count": null,
      "outputs": [
        {
          "output_type": "stream",
          "text": [
            "Writing test_one.py\n"
          ],
          "name": "stdout"
        }
      ]
    },
    {
      "cell_type": "code",
      "metadata": {
        "colab": {
          "base_uri": "https://localhost:8080/"
        },
        "id": "_94Y7rD5g4M7",
        "outputId": "15ea2018-2f3b-48a9-e97f-290aa384d3c7"
      },
      "source": [
        "%pytest test_one.py -v"
      ],
      "execution_count": null,
      "outputs": [
        {
          "output_type": "stream",
          "text": [
            "\u001b[1m============================= test session starts ==============================\u001b[0m\n",
            "platform linux -- Python 3.7.10, pytest-3.6.4, py-1.10.0, pluggy-0.7.1 -- /usr/bin/python3\n",
            "cachedir: .pytest_cache\n",
            "rootdir: /content/ch1, inifile:\n",
            "plugins: typeguard-2.7.1\n",
            "\u001b[1m\rcollecting 0 items                                                             \u001b[0m\u001b[1m\rcollecting 1 item                                                              \u001b[0m\u001b[1m\rcollected 1 item                                                               \u001b[0m\n",
            "\n",
            "test_one.py::test_passing \u001b[32mPASSED\u001b[0m\u001b[36m                                         [100%]\u001b[0m\n",
            "\n",
            "\u001b[32m\u001b[1m=========================== 1 passed in 0.02 seconds ===========================\u001b[0m\n"
          ],
          "name": "stdout"
        }
      ]
    },
    {
      "cell_type": "code",
      "metadata": {
        "colab": {
          "base_uri": "https://localhost:8080/"
        },
        "id": "mrAhV3Dag6QI",
        "outputId": "d450800a-ee84-4d9a-ddac-ad655b478196"
      },
      "source": [
        "%%writefile test_two.py\n",
        "\n",
        "def test_failing():\n",
        "  assert (1, 0) == (1, 1)"
      ],
      "execution_count": null,
      "outputs": [
        {
          "output_type": "stream",
          "text": [
            "Writing test_two.py\n"
          ],
          "name": "stdout"
        }
      ]
    },
    {
      "cell_type": "code",
      "metadata": {
        "colab": {
          "base_uri": "https://localhost:8080/"
        },
        "id": "DNsLPzyAhIwo",
        "outputId": "c093d973-f87b-4076-9629-ed68d7ee033d"
      },
      "source": [
        "%pytest test_two.py -v"
      ],
      "execution_count": null,
      "outputs": [
        {
          "output_type": "stream",
          "text": [
            "\u001b[1m============================= test session starts ==============================\u001b[0m\n",
            "platform linux -- Python 3.7.10, pytest-3.6.4, py-1.10.0, pluggy-0.7.1 -- /usr/bin/python3\n",
            "cachedir: .pytest_cache\n",
            "rootdir: /content/ch1, inifile:\n",
            "plugins: typeguard-2.7.1\n",
            "\u001b[1m\rcollecting 0 items                                                             \u001b[0m\u001b[1m\rcollecting 1 item                                                              \u001b[0m\u001b[1m\rcollected 1 item                                                               \u001b[0m\n",
            "\n",
            "test_two.py::test_failing \u001b[31mFAILED\u001b[0m\u001b[36m                                         [100%]\u001b[0m\n",
            "\n",
            "=================================== FAILURES ===================================\n",
            "\u001b[31m\u001b[1m_________________________________ test_failing _________________________________\u001b[0m\n",
            "\n",
            "\u001b[1m    def test_failing():\u001b[0m\n",
            "\u001b[1m>     assert (1, 0) == (1, 1)\u001b[0m\n",
            "\u001b[1m\u001b[31mE     assert (1, 0) == (1, 1)\u001b[0m\n",
            "\u001b[1m\u001b[31mE       At index 1 diff: 0 != 1\u001b[0m\n",
            "\u001b[1m\u001b[31mE       Full diff:\u001b[0m\n",
            "\u001b[1m\u001b[31mE       - (1, 0)\u001b[0m\n",
            "\u001b[1m\u001b[31mE       ?     ^\u001b[0m\n",
            "\u001b[1m\u001b[31mE       + (1, 1)\u001b[0m\n",
            "\u001b[1m\u001b[31mE       ?     ^\u001b[0m\n",
            "\n",
            "\u001b[1m\u001b[31mtest_two.py\u001b[0m:3: AssertionError\n",
            "\u001b[31m\u001b[1m=========================== 1 failed in 0.03 seconds ===========================\u001b[0m\n"
          ],
          "name": "stdout"
        }
      ]
    },
    {
      "cell_type": "code",
      "metadata": {
        "id": "CeytsFlUhKKQ"
      },
      "source": [
        "from collections import namedtuple\n",
        "\n",
        "Task = namedtuple('Task', 'summary owner done id')"
      ],
      "execution_count": null,
      "outputs": []
    },
    {
      "cell_type": "code",
      "metadata": {
        "colab": {
          "base_uri": "https://localhost:8080/"
        },
        "id": "NVxszsA8ho41",
        "outputId": "d67bd0e7-4d1d-4a5a-b52d-27b1958c2f4a"
      },
      "source": [
        "Task('Go to the market', 'Cat', False, 1)"
      ],
      "execution_count": null,
      "outputs": [
        {
          "output_type": "execute_result",
          "data": {
            "text/plain": [
              "Task(summary='Go to the market', owner='Cat', done=False, id=1)"
            ]
          },
          "metadata": {
            "tags": []
          },
          "execution_count": 12
        }
      ]
    },
    {
      "cell_type": "code",
      "metadata": {
        "id": "OXStGTpGhpXg"
      },
      "source": [
        "os.mkdir('tasks')"
      ],
      "execution_count": null,
      "outputs": []
    },
    {
      "cell_type": "code",
      "metadata": {
        "id": "VJfsrP2gh4do"
      },
      "source": [
        "os.chdir('tasks')"
      ],
      "execution_count": null,
      "outputs": []
    },
    {
      "cell_type": "code",
      "metadata": {
        "colab": {
          "base_uri": "https://localhost:8080/"
        },
        "id": "KJq_psBjipjZ",
        "outputId": "c979f8b1-b1ad-496c-9137-854f71bf0424"
      },
      "source": [
        "%%writefile test_three.py\n",
        "\"\"\"Test the Task data type.\"\"\"\n",
        "\n",
        "from collections import namedtuple\n",
        "\n",
        "\n",
        "Task = namedtuple('Task', 'summary owner done id', \n",
        "                  defaults=(None, None, False, None))\n",
        "\n",
        "\n",
        "def test_defaults():\n",
        "  \"\"\"Using no paramaters, invoke defaults.\"\"\"\n",
        "  t1 = Task()\n",
        "  t2 = Task(None, None, False, None)\n",
        "  assert t1 == t2\n",
        "\n",
        "def test_member_access():\n",
        "  \"\"\"Check the field functionallity.\"\"\"\n",
        "  t = Task('buy milk', 'brian')\n",
        "  assert t.summary == 'buy milk'\n",
        "  assert t.owner == 'brian'\n",
        "  assert (t.done, t.id) == (False, None)"
      ],
      "execution_count": null,
      "outputs": [
        {
          "output_type": "stream",
          "text": [
            "Writing test_three.py\n"
          ],
          "name": "stdout"
        }
      ]
    },
    {
      "cell_type": "code",
      "metadata": {
        "colab": {
          "base_uri": "https://localhost:8080/"
        },
        "id": "xVWO1DsyjfEg",
        "outputId": "3408510d-5222-4ecf-805b-06e250bcc463"
      },
      "source": [
        "%%writefile test_four.py\n",
        "\"\"\"Test the task data type more.\"\"\"\n",
        "\n",
        "from collections import namedtuple\n",
        "\n",
        "Task = namedtuple('Task', 'summary owner done id', \n",
        "                  defaults=(None, None, False, None))\n",
        "\n",
        "def test_asdict():\n",
        "  \"\"\"asdict() should return a dictionary.\"\"\"\n",
        "  t_task = Task('do something', 'okken', True, 21)\n",
        "  t_dict = t_task._asdict()\n",
        "  expected = dict(summary='do something',\n",
        "                  owner='okken',\n",
        "                  done=True,\n",
        "                  id=21)\n",
        "  assert t_dict == expected\n",
        "\n",
        "\n",
        "def test_replace():\n",
        "  \"\"\"Replace should change passed in fields.\"\"\"\n",
        "  t_before = Task('finish book', 'brian', False)\n",
        "  t_after = t_before._replace(id=10, done=True)\n",
        "  t_expected = Task('finish book', 'brian', True, 10)\n",
        "  assert t_after == t_expected"
      ],
      "execution_count": null,
      "outputs": [
        {
          "output_type": "stream",
          "text": [
            "Writing test_four.py\n"
          ],
          "name": "stdout"
        }
      ]
    },
    {
      "cell_type": "code",
      "metadata": {
        "id": "ld-KsqEckdeM"
      },
      "source": [
        "os.chdir('..')"
      ],
      "execution_count": null,
      "outputs": []
    },
    {
      "cell_type": "code",
      "metadata": {
        "colab": {
          "base_uri": "https://localhost:8080/",
          "height": 35
        },
        "id": "cea4McbOkeLL",
        "outputId": "2520b790-b383-43e5-f3c8-e9ed0e078ebd"
      },
      "source": [
        "os.getcwd()"
      ],
      "execution_count": null,
      "outputs": [
        {
          "output_type": "execute_result",
          "data": {
            "application/vnd.google.colaboratory.intrinsic+json": {
              "type": "string"
            },
            "text/plain": [
              "'/content/ch1'"
            ]
          },
          "metadata": {
            "tags": []
          },
          "execution_count": 18
        }
      ]
    },
    {
      "cell_type": "code",
      "metadata": {
        "colab": {
          "base_uri": "https://localhost:8080/"
        },
        "id": "OPW26OsFkktH",
        "outputId": "46bfb33c-d273-409b-986b-dc5c42a89b44"
      },
      "source": [
        "%pytest"
      ],
      "execution_count": null,
      "outputs": [
        {
          "output_type": "stream",
          "text": [
            "\u001b[1m============================= test session starts ==============================\u001b[0m\n",
            "platform linux -- Python 3.7.10, pytest-3.6.4, py-1.10.0, pluggy-0.7.1\n",
            "rootdir: /content/ch1, inifile:\n",
            "plugins: typeguard-2.7.1\n",
            "\u001b[1m\rcollecting 0 items                                                             \u001b[0m\u001b[1m\rcollecting 1 item                                                              \u001b[0m\u001b[1m\rcollecting 2 items                                                             \u001b[0m\u001b[1m\rcollecting 4 items                                                             \u001b[0m\u001b[1m\rcollecting 6 items                                                             \u001b[0m\u001b[1m\rcollected 6 items                                                              \u001b[0m\n",
            "\n",
            "test_one.py .\u001b[36m                                                            [ 16%]\u001b[0m\n",
            "test_two.py F\u001b[36m                                                            [ 33%]\u001b[0m\n",
            "tasks/test_four.py ..\u001b[36m                                                    [ 66%]\u001b[0m\n",
            "tasks/test_three.py ..\u001b[36m                                                   [100%]\u001b[0m\n",
            "\n",
            "=================================== FAILURES ===================================\n",
            "\u001b[31m\u001b[1m_________________________________ test_failing _________________________________\u001b[0m\n",
            "\n",
            "\u001b[1m    def test_failing():\u001b[0m\n",
            "\u001b[1m>     assert (1, 0) == (1, 1)\u001b[0m\n",
            "\u001b[1m\u001b[31mE     assert (1, 0) == (1, 1)\u001b[0m\n",
            "\u001b[1m\u001b[31mE       At index 1 diff: 0 != 1\u001b[0m\n",
            "\u001b[1m\u001b[31mE       Use -v to get the full diff\u001b[0m\n",
            "\n",
            "\u001b[1m\u001b[31mtest_two.py\u001b[0m:3: AssertionError\n",
            "\u001b[31m\u001b[1m====================== 1 failed, 5 passed in 0.06 seconds ======================\u001b[0m\n"
          ],
          "name": "stdout"
        }
      ]
    },
    {
      "cell_type": "code",
      "metadata": {
        "colab": {
          "base_uri": "https://localhost:8080/"
        },
        "id": "QcCoVvWMkmUY",
        "outputId": "a554d0a4-991f-4f3b-ed76-812ab10b30f1"
      },
      "source": [
        "%pytest tasks/test_three.py tasks/test_four.py -v"
      ],
      "execution_count": null,
      "outputs": [
        {
          "output_type": "stream",
          "text": [
            "\u001b[1m============================= test session starts ==============================\u001b[0m\n",
            "platform linux -- Python 3.7.10, pytest-3.6.4, py-1.10.0, pluggy-0.7.1 -- /usr/bin/python3\n",
            "cachedir: .pytest_cache\n",
            "rootdir: /content/ch1, inifile:\n",
            "plugins: typeguard-2.7.1\n",
            "\u001b[1m\rcollecting 0 items                                                             \u001b[0m\u001b[1m\rcollecting 2 items                                                             \u001b[0m\u001b[1m\rcollecting 4 items                                                             \u001b[0m\u001b[1m\rcollected 4 items                                                              \u001b[0m\n",
            "\n",
            "tasks/test_three.py::test_defaults \u001b[32mPASSED\u001b[0m\u001b[36m                                [ 25%]\u001b[0m\n",
            "tasks/test_three.py::test_member_access \u001b[32mPASSED\u001b[0m\u001b[36m                           [ 50%]\u001b[0m\n",
            "tasks/test_four.py::test_asdict \u001b[32mPASSED\u001b[0m\u001b[36m                                   [ 75%]\u001b[0m\n",
            "tasks/test_four.py::test_replace \u001b[32mPASSED\u001b[0m\u001b[36m                                  [100%]\u001b[0m\n",
            "\n",
            "\u001b[32m\u001b[1m=========================== 4 passed in 0.01 seconds ===========================\u001b[0m\n"
          ],
          "name": "stdout"
        }
      ]
    },
    {
      "cell_type": "code",
      "metadata": {
        "colab": {
          "base_uri": "https://localhost:8080/"
        },
        "id": "Rw-CYIRUmNiK",
        "outputId": "4468dbaa-0c57-47e0-ee1c-91bac838abef"
      },
      "source": [
        "%pytest tasks/test_three.py -v"
      ],
      "execution_count": null,
      "outputs": [
        {
          "output_type": "stream",
          "text": [
            "\u001b[1m============================= test session starts ==============================\u001b[0m\n",
            "platform linux -- Python 3.7.10, pytest-3.6.4, py-1.10.0, pluggy-0.7.1 -- /usr/bin/python3\n",
            "cachedir: .pytest_cache\n",
            "rootdir: /content/ch1, inifile:\n",
            "plugins: typeguard-2.7.1\n",
            "\u001b[1m\rcollecting 0 items                                                             \u001b[0m\u001b[1m\rcollecting 2 items                                                             \u001b[0m\u001b[1m\rcollected 2 items                                                              \u001b[0m\n",
            "\n",
            "tasks/test_three.py::test_defaults \u001b[32mPASSED\u001b[0m\u001b[36m                                [ 50%]\u001b[0m\n",
            "tasks/test_three.py::test_member_access \u001b[32mPASSED\u001b[0m\u001b[36m                           [100%]\u001b[0m\n",
            "\n",
            "\u001b[32m\u001b[1m=========================== 2 passed in 0.01 seconds ===========================\u001b[0m\n"
          ],
          "name": "stdout"
        }
      ]
    },
    {
      "cell_type": "code",
      "metadata": {
        "colab": {
          "base_uri": "https://localhost:8080/"
        },
        "id": "PfehtrnUmZ0T",
        "outputId": "30f6b450-727e-4db2-f580-8aff031e1a3e"
      },
      "source": [
        "%pytest tasks/test_three.py::test_defaults -v"
      ],
      "execution_count": null,
      "outputs": [
        {
          "output_type": "stream",
          "text": [
            "\u001b[1m============================= test session starts ==============================\u001b[0m\n",
            "platform linux -- Python 3.7.10, pytest-3.6.4, py-1.10.0, pluggy-0.7.1 -- /usr/bin/python3\n",
            "cachedir: .pytest_cache\n",
            "rootdir: /content/ch1, inifile:\n",
            "plugins: typeguard-2.7.1\n",
            "\u001b[1m\rcollecting 1 item                                                              \u001b[0m\u001b[1m\rcollected 1 item                                                               \u001b[0m\n",
            "\n",
            "tasks/test_three.py::test_defaults \u001b[32mPASSED\u001b[0m\u001b[36m                                [100%]\u001b[0m\n",
            "\n",
            "\u001b[32m\u001b[1m=========================== 1 passed in 0.01 seconds ===========================\u001b[0m\n"
          ],
          "name": "stdout"
        }
      ]
    },
    {
      "cell_type": "code",
      "metadata": {
        "colab": {
          "base_uri": "https://localhost:8080/"
        },
        "id": "6Y0ga8ccm_BG",
        "outputId": "2fc1e7f6-d0e5-40a8-f86f-b02cde425987"
      },
      "source": [
        "%pytest --collect-only"
      ],
      "execution_count": null,
      "outputs": [
        {
          "output_type": "stream",
          "text": [
            "\u001b[1m============================= test session starts ==============================\u001b[0m\n",
            "platform linux -- Python 3.7.10, pytest-3.6.4, py-1.10.0, pluggy-0.7.1\n",
            "rootdir: /content/ch1, inifile:\n",
            "plugins: typeguard-2.7.1\n",
            "\u001b[1m\rcollecting 0 items                                                             \u001b[0m\u001b[1m\rcollecting 1 item                                                              \u001b[0m\u001b[1m\rcollecting 2 items                                                             \u001b[0m\u001b[1m\rcollecting 4 items                                                             \u001b[0m\u001b[1m\rcollecting 6 items                                                             \u001b[0m\u001b[1m\rcollected 6 items                                                              \u001b[0m\n",
            "<Module 'test_one.py'>\n",
            "  <Function 'test_passing'>\n",
            "<Module 'test_two.py'>\n",
            "  <Function 'test_failing'>\n",
            "<Module 'tasks/test_four.py'>\n",
            "  <Function 'test_asdict'>\n",
            "  <Function 'test_replace'>\n",
            "<Module 'tasks/test_three.py'>\n",
            "  <Function 'test_defaults'>\n",
            "  <Function 'test_member_access'>\n",
            "\n",
            "\u001b[33m\u001b[1m========================= no tests ran in 0.01 seconds =========================\u001b[0m\n"
          ],
          "name": "stdout"
        }
      ]
    },
    {
      "cell_type": "code",
      "metadata": {
        "colab": {
          "base_uri": "https://localhost:8080/"
        },
        "id": "5dL55tFmnB-D",
        "outputId": "826f7d0e-73e8-4006-8c73-aa6f4834323d"
      },
      "source": [
        "%pytest -k 'asdict or defaults' --collect-only"
      ],
      "execution_count": null,
      "outputs": [
        {
          "output_type": "stream",
          "text": [
            "\u001b[1m============================= test session starts ==============================\u001b[0m\n",
            "platform linux -- Python 3.7.10, pytest-3.6.4, py-1.10.0, pluggy-0.7.1\n",
            "rootdir: /content/ch1, inifile:\n",
            "plugins: typeguard-2.7.1\n",
            "\u001b[1m\rcollecting 0 items                                                             \u001b[0m\u001b[1m\rcollecting 1 item                                                              \u001b[0m\u001b[1m\rcollecting 2 items                                                             \u001b[0m\u001b[1m\rcollecting 4 items                                                             \u001b[0m\u001b[1m\rcollecting 6 items                                                             \u001b[0m\u001b[1m\rcollected 6 items / 4 deselected                                               \u001b[0m\n",
            "<Module 'tasks/test_four.py'>\n",
            "  <Function 'test_asdict'>\n",
            "<Module 'tasks/test_three.py'>\n",
            "  <Function 'test_defaults'>\n",
            "\n",
            "\u001b[33m\u001b[1m========================= 4 deselected in 0.01 seconds =========================\u001b[0m\n"
          ],
          "name": "stdout"
        }
      ]
    },
    {
      "cell_type": "code",
      "metadata": {
        "colab": {
          "base_uri": "https://localhost:8080/"
        },
        "id": "fVTDX5VqnhTh",
        "outputId": "a18f515e-6114-47c5-c0e9-069ec8210d3c"
      },
      "source": [
        "%pytest -k 'asdict or defaults'"
      ],
      "execution_count": null,
      "outputs": [
        {
          "output_type": "stream",
          "text": [
            "\u001b[1m============================= test session starts ==============================\u001b[0m\n",
            "platform linux -- Python 3.7.10, pytest-3.6.4, py-1.10.0, pluggy-0.7.1\n",
            "rootdir: /content/ch1, inifile:\n",
            "plugins: typeguard-2.7.1\n",
            "\u001b[1m\rcollecting 0 items                                                             \u001b[0m\u001b[1m\rcollecting 1 item                                                              \u001b[0m\u001b[1m\rcollecting 2 items                                                             \u001b[0m\u001b[1m\rcollecting 4 items                                                             \u001b[0m\u001b[1m\rcollecting 6 items                                                             \u001b[0m\u001b[1m\rcollected 6 items / 4 deselected                                               \u001b[0m\n",
            "\n",
            "tasks/test_four.py .\u001b[36m                                                     [ 50%]\u001b[0m\n",
            "tasks/test_three.py .\u001b[36m                                                    [100%]\u001b[0m\n",
            "\n",
            "\u001b[32m\u001b[1m==================== 2 passed, 4 deselected in 0.01 seconds ====================\u001b[0m\n"
          ],
          "name": "stdout"
        }
      ]
    },
    {
      "cell_type": "code",
      "metadata": {
        "colab": {
          "base_uri": "https://localhost:8080/"
        },
        "id": "1EbIkMXSnmdN",
        "outputId": "6a7fdff0-64ab-4417-8421-db5edc79c11c"
      },
      "source": [
        "%pytest -k 'asdict or defaults' -v"
      ],
      "execution_count": null,
      "outputs": [
        {
          "output_type": "stream",
          "text": [
            "\u001b[1m============================= test session starts ==============================\u001b[0m\n",
            "platform linux -- Python 3.7.10, pytest-3.6.4, py-1.10.0, pluggy-0.7.1 -- /usr/bin/python3\n",
            "cachedir: .pytest_cache\n",
            "rootdir: /content/ch1, inifile:\n",
            "plugins: typeguard-2.7.1\n",
            "\u001b[1m\rcollecting 0 items                                                             \u001b[0m\u001b[1m\rcollecting 1 item                                                              \u001b[0m\u001b[1m\rcollecting 2 items                                                             \u001b[0m\u001b[1m\rcollecting 4 items                                                             \u001b[0m\u001b[1m\rcollecting 6 items                                                             \u001b[0m\u001b[1m\rcollected 6 items / 4 deselected                                               \u001b[0m\n",
            "\n",
            "tasks/test_four.py::test_asdict \u001b[32mPASSED\u001b[0m\u001b[36m                                   [ 50%]\u001b[0m\n",
            "tasks/test_three.py::test_defaults \u001b[32mPASSED\u001b[0m\u001b[36m                                [100%]\u001b[0m\n",
            "\n",
            "\u001b[32m\u001b[1m==================== 2 passed, 4 deselected in 0.02 seconds ====================\u001b[0m\n"
          ],
          "name": "stdout"
        }
      ]
    },
    {
      "cell_type": "code",
      "metadata": {
        "colab": {
          "base_uri": "https://localhost:8080/"
        },
        "id": "VfdUCeOOnphY",
        "outputId": "0a459e0f-6a14-4a13-ee73-ab97f2805968"
      },
      "source": [
        "%%writefile tasks/test_three.py\n",
        "\"\"\"Test the Task data type.\"\"\"\n",
        "\n",
        "from collections import namedtuple\n",
        "\n",
        "import pytest\n",
        "\n",
        "\n",
        "Task = namedtuple('Task', 'summary owner done id', \n",
        "                  defaults=(None, None, False, None))\n",
        "\n",
        "\n",
        "@pytest.mark.run_these_please\n",
        "def test_defaults():\n",
        "  \"\"\"Using no paramaters, invoke defaults.\"\"\"\n",
        "  t1 = Task()\n",
        "  t2 = Task(None, None, False, None)\n",
        "  assert t1 == t2\n",
        "\n",
        "def test_member_access():\n",
        "  \"\"\"Check the field functionallity.\"\"\"\n",
        "  t = Task('buy milk', 'brian')\n",
        "  assert t.summary == 'buy milk'\n",
        "  assert t.owner == 'brian'\n",
        "  assert (t.done, t.id) == (False, None)"
      ],
      "execution_count": null,
      "outputs": [
        {
          "output_type": "stream",
          "text": [
            "Overwriting tasks/test_three.py\n"
          ],
          "name": "stdout"
        }
      ]
    },
    {
      "cell_type": "code",
      "metadata": {
        "colab": {
          "base_uri": "https://localhost:8080/"
        },
        "id": "4Zke9xsUoC5y",
        "outputId": "590b2bea-09d4-4ab0-c7fd-97a1f710e806"
      },
      "source": [
        "%%writefile tasks/test_four.py\n",
        "\"\"\"Test the task data type more.\"\"\"\n",
        "\n",
        "from collections import namedtuple\n",
        "\n",
        "import pytest\n",
        "\n",
        "Task = namedtuple('Task', 'summary owner done id', \n",
        "                  defaults=(None, None, False, None))\n",
        "\n",
        "def test_asdict():\n",
        "  \"\"\"asdict() should return a dictionary.\"\"\"\n",
        "  t_task = Task('do something', 'okken', True, 21)\n",
        "  t_dict = t_task._asdict()\n",
        "  expected = dict(summary='do something',\n",
        "                  owner='okken',\n",
        "                  done=True,\n",
        "                  id=21)\n",
        "  assert t_dict == expected\n",
        "\n",
        "\n",
        "@pytest.mark.run_these_please\n",
        "def test_replace():\n",
        "  \"\"\"Replace should change passed in fields.\"\"\"\n",
        "  t_before = Task('finish book', 'brian', False)\n",
        "  t_after = t_before._replace(id=10, done=True)\n",
        "  t_expected = Task('finish book', 'brian', True, 10)\n",
        "  assert t_after == t_expected"
      ],
      "execution_count": null,
      "outputs": [
        {
          "output_type": "stream",
          "text": [
            "Overwriting tasks/test_four.py\n"
          ],
          "name": "stdout"
        }
      ]
    },
    {
      "cell_type": "code",
      "metadata": {
        "colab": {
          "base_uri": "https://localhost:8080/"
        },
        "id": "AQQszVbsoG3y",
        "outputId": "6fe1977f-4331-4552-9506-fa7005a046c3"
      },
      "source": [
        "%pytest -m run_these_please -v"
      ],
      "execution_count": null,
      "outputs": [
        {
          "output_type": "stream",
          "text": [
            "\u001b[1m============================= test session starts ==============================\u001b[0m\n",
            "platform linux -- Python 3.7.10, pytest-3.6.4, py-1.10.0, pluggy-0.7.1 -- /usr/bin/python3\n",
            "cachedir: .pytest_cache\n",
            "rootdir: /content/ch1, inifile:\n",
            "plugins: typeguard-2.7.1\n",
            "\u001b[1m\rcollecting 0 items                                                             \u001b[0m\u001b[1m\rcollecting 1 item                                                              \u001b[0m\u001b[1m\rcollecting 2 items                                                             \u001b[0m\u001b[1m\rcollecting 4 items                                                             \u001b[0m\u001b[1m\rcollecting 6 items                                                             \u001b[0m\u001b[1m\rcollected 6 items / 4 deselected                                               \u001b[0m\n",
            "\n",
            "tasks/test_four.py::test_replace \u001b[32mPASSED\u001b[0m\u001b[36m                                  [ 50%]\u001b[0m\n",
            "tasks/test_three.py::test_defaults \u001b[32mPASSED\u001b[0m\u001b[36m                                [100%]\u001b[0m\n",
            "\n",
            "\u001b[32m\u001b[1m==================== 2 passed, 4 deselected in 0.04 seconds ====================\u001b[0m\n"
          ],
          "name": "stdout"
        }
      ]
    },
    {
      "cell_type": "code",
      "metadata": {
        "colab": {
          "base_uri": "https://localhost:8080/"
        },
        "id": "GpUhOz33oQcA",
        "outputId": "1d219398-94c8-4d34-ae33-3cd51cbb8d82"
      },
      "source": [
        "%pytest -x"
      ],
      "execution_count": null,
      "outputs": [
        {
          "output_type": "stream",
          "text": [
            "\u001b[1m============================= test session starts ==============================\u001b[0m\n",
            "platform linux -- Python 3.7.10, pytest-3.6.4, py-1.10.0, pluggy-0.7.1\n",
            "rootdir: /content/ch1, inifile:\n",
            "plugins: typeguard-2.7.1\n",
            "\u001b[1m\rcollecting 0 items                                                             \u001b[0m\u001b[1m\rcollecting 1 item                                                              \u001b[0m\u001b[1m\rcollecting 2 items                                                             \u001b[0m\u001b[1m\rcollecting 4 items                                                             \u001b[0m\u001b[1m\rcollecting 6 items                                                             \u001b[0m\u001b[1m\rcollected 6 items                                                              \u001b[0m\n",
            "\n",
            "test_one.py .\u001b[36m                                                            [ 16%]\u001b[0m\n",
            "test_two.py F\n",
            "\n",
            "=================================== FAILURES ===================================\n",
            "\u001b[31m\u001b[1m_________________________________ test_failing _________________________________\u001b[0m\n",
            "\n",
            "\u001b[1m    def test_failing():\u001b[0m\n",
            "\u001b[1m>     assert (1, 0) == (1, 1)\u001b[0m\n",
            "\u001b[1m\u001b[31mE     assert (1, 0) == (1, 1)\u001b[0m\n",
            "\u001b[1m\u001b[31mE       At index 1 diff: 0 != 1\u001b[0m\n",
            "\u001b[1m\u001b[31mE       Use -v to get the full diff\u001b[0m\n",
            "\n",
            "\u001b[1m\u001b[31mtest_two.py\u001b[0m:3: AssertionError\n",
            "\u001b[31m\u001b[1m====================== 1 failed, 1 passed in 0.03 seconds ======================\u001b[0m\n"
          ],
          "name": "stdout"
        }
      ]
    },
    {
      "cell_type": "code",
      "metadata": {
        "colab": {
          "base_uri": "https://localhost:8080/"
        },
        "id": "CeC_7Xe0ocNE",
        "outputId": "750d602a-8b57-4ce5-c3f2-8fd128f8630d"
      },
      "source": [
        "%pytest --tb=no"
      ],
      "execution_count": null,
      "outputs": [
        {
          "output_type": "stream",
          "text": [
            "\u001b[1m============================= test session starts ==============================\u001b[0m\n",
            "platform linux -- Python 3.7.10, pytest-3.6.4, py-1.10.0, pluggy-0.7.1\n",
            "rootdir: /content/ch1, inifile:\n",
            "plugins: typeguard-2.7.1\n",
            "\u001b[1m\rcollecting 0 items                                                             \u001b[0m\u001b[1m\rcollecting 1 item                                                              \u001b[0m\u001b[1m\rcollecting 2 items                                                             \u001b[0m\u001b[1m\rcollecting 4 items                                                             \u001b[0m\u001b[1m\rcollecting 6 items                                                             \u001b[0m\u001b[1m\rcollected 6 items                                                              \u001b[0m\n",
            "\n",
            "test_one.py .\u001b[36m                                                            [ 16%]\u001b[0m\n",
            "test_two.py F\u001b[36m                                                            [ 33%]\u001b[0m\n",
            "tasks/test_four.py ..\u001b[36m                                                    [ 66%]\u001b[0m\n",
            "tasks/test_three.py ..\u001b[36m                                                   [100%]\u001b[0m\n",
            "\n",
            "\u001b[31m\u001b[1m====================== 1 failed, 5 passed in 0.03 seconds ======================\u001b[0m\n"
          ],
          "name": "stdout"
        }
      ]
    },
    {
      "cell_type": "code",
      "metadata": {
        "colab": {
          "base_uri": "https://localhost:8080/"
        },
        "id": "r27ISwXooids",
        "outputId": "c3399d67-caed-402e-c375-0e2ee1a34758"
      },
      "source": [
        "%pytest --maxfail=2 --tb=no"
      ],
      "execution_count": null,
      "outputs": [
        {
          "output_type": "stream",
          "text": [
            "\u001b[1m============================= test session starts ==============================\u001b[0m\n",
            "platform linux -- Python 3.7.10, pytest-3.6.4, py-1.10.0, pluggy-0.7.1\n",
            "rootdir: /content/ch1, inifile:\n",
            "plugins: typeguard-2.7.1\n",
            "\u001b[1m\rcollecting 0 items                                                             \u001b[0m\u001b[1m\rcollecting 1 item                                                              \u001b[0m\u001b[1m\rcollecting 2 items                                                             \u001b[0m\u001b[1m\rcollecting 4 items                                                             \u001b[0m\u001b[1m\rcollecting 6 items                                                             \u001b[0m\u001b[1m\rcollected 6 items                                                              \u001b[0m\n",
            "\n",
            "test_one.py .\u001b[36m                                                            [ 16%]\u001b[0m\n",
            "test_two.py F\u001b[36m                                                            [ 33%]\u001b[0m\n",
            "tasks/test_four.py ..\u001b[36m                                                    [ 66%]\u001b[0m\n",
            "tasks/test_three.py ..\u001b[36m                                                   [100%]\u001b[0m\n",
            "\n",
            "\u001b[31m\u001b[1m====================== 1 failed, 5 passed in 0.04 seconds ======================\u001b[0m\n"
          ],
          "name": "stdout"
        }
      ]
    },
    {
      "cell_type": "code",
      "metadata": {
        "colab": {
          "base_uri": "https://localhost:8080/"
        },
        "id": "sMusTkH1opdv",
        "outputId": "533cef1f-f6c7-4bfa-e6ad-88c040724d07"
      },
      "source": [
        "%pytest --maxfail=1 --tb=no"
      ],
      "execution_count": null,
      "outputs": [
        {
          "output_type": "stream",
          "text": [
            "\u001b[1m============================= test session starts ==============================\u001b[0m\n",
            "platform linux -- Python 3.7.10, pytest-3.6.4, py-1.10.0, pluggy-0.7.1\n",
            "rootdir: /content/ch1, inifile:\n",
            "plugins: typeguard-2.7.1\n",
            "\u001b[1m\rcollecting 0 items                                                             \u001b[0m\u001b[1m\rcollecting 1 item                                                              \u001b[0m\u001b[1m\rcollecting 2 items                                                             \u001b[0m\u001b[1m\rcollecting 4 items                                                             \u001b[0m\u001b[1m\rcollecting 6 items                                                             \u001b[0m\u001b[1m\rcollected 6 items                                                              \u001b[0m\n",
            "\n",
            "test_one.py .\u001b[36m                                                            [ 16%]\u001b[0m\n",
            "test_two.py F\n",
            "\n",
            "\u001b[31m\u001b[1m====================== 1 failed, 1 passed in 0.03 seconds ======================\u001b[0m\n"
          ],
          "name": "stdout"
        }
      ]
    },
    {
      "cell_type": "markdown",
      "metadata": {
        "id": "H4wI2p9tbUD_"
      },
      "source": [
        "# Exercises"
      ]
    },
    {
      "cell_type": "markdown",
      "metadata": {
        "id": "WVDa4-Y5bVKA"
      },
      "source": [
        "Create a new virtual environment using python -m virtualenv or python -m venv."
      ]
    },
    {
      "cell_type": "code",
      "metadata": {
        "colab": {
          "base_uri": "https://localhost:8080/"
        },
        "id": "R1rWZA_7bsT2",
        "outputId": "a3f621e5-2b51-47dd-c578-924e479300a3"
      },
      "source": [
        "!pip install virtualenv"
      ],
      "execution_count": null,
      "outputs": [
        {
          "output_type": "stream",
          "text": [
            "Collecting virtualenv\n",
            "\u001b[?25l  Downloading https://files.pythonhosted.org/packages/03/08/f819421002e85a71d58368f7bffbe0b1921325e0e8ca7857cb5fb0e1f7c1/virtualenv-20.4.7-py2.py3-none-any.whl (7.2MB)\n",
            "\u001b[K     |████████████████████████████████| 7.2MB 26.9MB/s \n",
            "\u001b[?25hRequirement already satisfied: appdirs<2,>=1.4.3 in /usr/local/lib/python3.7/dist-packages (from virtualenv) (1.4.4)\n",
            "Collecting distlib<1,>=0.3.1\n",
            "\u001b[?25l  Downloading https://files.pythonhosted.org/packages/87/26/f6a23dd3e578132cf924e0dd5d4e055af0cd4ab43e2a9f10b7568bfb39d9/distlib-0.3.2-py2.py3-none-any.whl (338kB)\n",
            "\u001b[K     |████████████████████████████████| 348kB 39.0MB/s \n",
            "\u001b[?25hRequirement already satisfied: filelock<4,>=3.0.0 in /usr/local/lib/python3.7/dist-packages (from virtualenv) (3.0.12)\n",
            "Requirement already satisfied: importlib-metadata>=0.12; python_version < \"3.8\" in /usr/local/lib/python3.7/dist-packages (from virtualenv) (4.6.0)\n",
            "Requirement already satisfied: six<2,>=1.9.0 in /usr/local/lib/python3.7/dist-packages (from virtualenv) (1.15.0)\n",
            "Requirement already satisfied: typing-extensions>=3.6.4; python_version < \"3.8\" in /usr/local/lib/python3.7/dist-packages (from importlib-metadata>=0.12; python_version < \"3.8\"->virtualenv) (3.7.4.3)\n",
            "Requirement already satisfied: zipp>=0.5 in /usr/local/lib/python3.7/dist-packages (from importlib-metadata>=0.12; python_version < \"3.8\"->virtualenv) (3.4.1)\n",
            "Installing collected packages: distlib, virtualenv\n",
            "Successfully installed distlib-0.3.2 virtualenv-20.4.7\n"
          ],
          "name": "stdout"
        }
      ]
    },
    {
      "cell_type": "code",
      "metadata": {
        "colab": {
          "base_uri": "https://localhost:8080/"
        },
        "id": "QDskXSaEbvLv",
        "outputId": "524da76b-e042-41a6-8f7c-3464d805ee90"
      },
      "source": [
        "!python -m virtualenv venv"
      ],
      "execution_count": null,
      "outputs": [
        {
          "output_type": "stream",
          "text": [
            "created virtual environment CPython3.7.10.final.0-64 in 820ms\n",
            "  creator CPython3Posix(dest=/content/ch1/venv, clear=False, no_vcs_ignore=False, global=False)\n",
            "  seeder FromAppData(download=False, pip=bundle, setuptools=bundle, wheel=bundle, via=copy, app_data_dir=/root/.local/share/virtualenv)\n",
            "    added seed packages: pip==21.1.2, setuptools==57.0.0, wheel==0.36.2\n",
            "  activators BashActivator,CShellActivator,FishActivator,PowerShellActivator,PythonActivator,XonshActivator\n"
          ],
          "name": "stdout"
        }
      ]
    },
    {
      "cell_type": "code",
      "metadata": {
        "colab": {
          "base_uri": "https://localhost:8080/"
        },
        "id": "Uz-iZnabcMo3",
        "outputId": "6e85fe3a-d214-4d29-c604-28c685b56d8f"
      },
      "source": [
        "%%bash\n",
        "source venv/bin/activate\n",
        "pip install pytest"
      ],
      "execution_count": null,
      "outputs": [
        {
          "output_type": "stream",
          "text": [
            "Collecting pytest\n",
            "  Downloading pytest-6.2.4-py3-none-any.whl (280 kB)\n",
            "Collecting toml\n",
            "  Downloading toml-0.10.2-py2.py3-none-any.whl (16 kB)\n",
            "Collecting py>=1.8.2\n",
            "  Downloading py-1.10.0-py2.py3-none-any.whl (97 kB)\n",
            "Collecting importlib-metadata>=0.12\n",
            "  Downloading importlib_metadata-4.6.1-py3-none-any.whl (17 kB)\n",
            "Collecting pluggy<1.0.0a1,>=0.12\n",
            "  Downloading pluggy-0.13.1-py2.py3-none-any.whl (18 kB)\n",
            "Collecting packaging\n",
            "  Downloading packaging-21.0-py3-none-any.whl (40 kB)\n",
            "Collecting attrs>=19.2.0\n",
            "  Downloading attrs-21.2.0-py2.py3-none-any.whl (53 kB)\n",
            "Collecting iniconfig\n",
            "  Downloading iniconfig-1.1.1-py2.py3-none-any.whl (5.0 kB)\n",
            "Collecting typing-extensions>=3.6.4\n",
            "  Downloading typing_extensions-3.10.0.0-py3-none-any.whl (26 kB)\n",
            "Collecting zipp>=0.5\n",
            "  Downloading zipp-3.5.0-py3-none-any.whl (5.7 kB)\n",
            "Collecting pyparsing>=2.0.2\n",
            "  Downloading pyparsing-2.4.7-py2.py3-none-any.whl (67 kB)\n",
            "Installing collected packages: zipp, typing-extensions, pyparsing, importlib-metadata, toml, py, pluggy, packaging, iniconfig, attrs, pytest\n",
            "Successfully installed attrs-21.2.0 importlib-metadata-4.6.1 iniconfig-1.1.1 packaging-21.0 pluggy-0.13.1 py-1.10.0 pyparsing-2.4.7 pytest-6.2.4 toml-0.10.2 typing-extensions-3.10.0.0 zipp-3.5.0\n"
          ],
          "name": "stdout"
        }
      ]
    },
    {
      "cell_type": "code",
      "metadata": {
        "colab": {
          "base_uri": "https://localhost:8080/"
        },
        "id": "CDvyHfV0dBKl",
        "outputId": "e6c8477b-6ac1-4a6a-bf4f-46e0899f6b71"
      },
      "source": [
        "%%writefile exercise_test.py\n",
        "assert '5'.isnumeric()\n",
        "assert 5 < 9 < 12\n",
        "assert 5 not in {1,5,6}"
      ],
      "execution_count": null,
      "outputs": [
        {
          "output_type": "stream",
          "text": [
            "Overwriting exercise_test.py\n"
          ],
          "name": "stdout"
        }
      ]
    },
    {
      "cell_type": "code",
      "metadata": {
        "colab": {
          "base_uri": "https://localhost:8080/"
        },
        "id": "NzgTaJkqdw-M",
        "outputId": "96f37231-6ccb-4357-aaeb-e7412015002d"
      },
      "source": [
        "%%bash\n",
        "source venv/bin/activate\n",
        "pytest exercise_test.py -v"
      ],
      "execution_count": null,
      "outputs": [
        {
          "output_type": "stream",
          "text": [
            "============================= test session starts ==============================\n",
            "platform linux -- Python 3.7.10, pytest-6.2.4, py-1.10.0, pluggy-0.13.1 -- /content/ch1/venv/bin/python\n",
            "cachedir: .pytest_cache\n",
            "rootdir: /content/ch1\n",
            "collecting ... collected 0 items / 1 error\n",
            "\n",
            "==================================== ERRORS ====================================\n",
            "______________________ ERROR collecting exercise_test.py _______________________\n",
            "exercise_test.py:3: in <module>\n",
            "    assert 5 not in {1,5,6}\n",
            "E   assert 5 not in {1, 5, 6}\n",
            "=========================== short test summary info ============================\n",
            "ERROR exercise_test.py - assert 5 not in {1, 5, 6}\n",
            "!!!!!!!!!!!!!!!!!!!! Interrupted: 1 error during collection !!!!!!!!!!!!!!!!!!!!\n",
            "=============================== 1 error in 0.08s ===============================\n"
          ],
          "name": "stdout"
        }
      ]
    }
  ]
}
