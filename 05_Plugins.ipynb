{
  "nbformat": 4,
  "nbformat_minor": 0,
  "metadata": {
    "colab": {
      "name": "05_Plugins.ipynb",
      "provenance": [],
      "collapsed_sections": [],
      "authorship_tag": "ABX9TyPasfgLTgEsQYjYSYMVpQix",
      "include_colab_link": true
    },
    "kernelspec": {
      "display_name": "Python 3",
      "name": "python3"
    },
    "language_info": {
      "name": "python"
    }
  },
  "cells": [
    {
      "cell_type": "markdown",
      "metadata": {
        "id": "view-in-github",
        "colab_type": "text"
      },
      "source": [
        "<a href=\"https://colab.research.google.com/github/M-110/testing-with-pytest/blob/main/05_Plugins.ipynb\" target=\"_parent\"><img src=\"https://colab.research.google.com/assets/colab-badge.svg\" alt=\"Open In Colab\"/></a>"
      ]
    },
    {
      "cell_type": "markdown",
      "source": [
        "# Highlights\n",
        "* Custom test status/headers\n",
        "* Create plugin"
      ],
      "metadata": {
        "id": "j4JBJZmF9GLE"
      }
    },
    {
      "cell_type": "markdown",
      "metadata": {
        "id": "0866M4GDa_d8"
      },
      "source": [
        "Finding Plugins:\n",
        "\n",
        "* https://docs.pytest.org/en/latest/plugins.html\n",
        "\n",
        "* https://pypi.python.org\n",
        "\n",
        "* https://github.com/pytest-dev"
      ]
    },
    {
      "cell_type": "code",
      "metadata": {
        "colab": {
          "base_uri": "https://localhost:8080/"
        },
        "id": "Zh7hkKqia-qF",
        "outputId": "0ce61883-17ad-41a2-dc19-ff6b527c3151"
      },
      "source": [
        "!pip install pytest-cov"
      ],
      "execution_count": null,
      "outputs": [
        {
          "output_type": "stream",
          "text": [
            "Collecting pytest-cov\n",
            "  Downloading pytest_cov-2.12.1-py2.py3-none-any.whl (20 kB)\n",
            "Requirement already satisfied: toml in /usr/local/lib/python3.7/dist-packages (from pytest-cov) (0.10.2)\n",
            "Collecting pytest>=4.6\n",
            "  Downloading pytest-6.2.4-py3-none-any.whl (280 kB)\n",
            "\u001b[K     |████████████████████████████████| 280 kB 8.3 MB/s \n",
            "\u001b[?25hCollecting coverage>=5.2.1\n",
            "  Downloading coverage-5.5-cp37-cp37m-manylinux2010_x86_64.whl (242 kB)\n",
            "\u001b[K     |████████████████████████████████| 242 kB 29.6 MB/s \n",
            "\u001b[?25hRequirement already satisfied: attrs>=19.2.0 in /usr/local/lib/python3.7/dist-packages (from pytest>=4.6->pytest-cov) (21.2.0)\n",
            "Requirement already satisfied: iniconfig in /usr/local/lib/python3.7/dist-packages (from pytest>=4.6->pytest-cov) (1.1.1)\n",
            "Collecting pluggy<1.0.0a1,>=0.12\n",
            "  Downloading pluggy-0.13.1-py2.py3-none-any.whl (18 kB)\n",
            "Requirement already satisfied: py>=1.8.2 in /usr/local/lib/python3.7/dist-packages (from pytest>=4.6->pytest-cov) (1.10.0)\n",
            "Requirement already satisfied: importlib-metadata>=0.12 in /usr/local/lib/python3.7/dist-packages (from pytest>=4.6->pytest-cov) (4.6.1)\n",
            "Requirement already satisfied: packaging in /usr/local/lib/python3.7/dist-packages (from pytest>=4.6->pytest-cov) (21.0)\n",
            "Requirement already satisfied: zipp>=0.5 in /usr/local/lib/python3.7/dist-packages (from importlib-metadata>=0.12->pytest>=4.6->pytest-cov) (3.5.0)\n",
            "Requirement already satisfied: typing-extensions>=3.6.4 in /usr/local/lib/python3.7/dist-packages (from importlib-metadata>=0.12->pytest>=4.6->pytest-cov) (3.7.4.3)\n",
            "Requirement already satisfied: pyparsing>=2.0.2 in /usr/local/lib/python3.7/dist-packages (from packaging->pytest>=4.6->pytest-cov) (2.4.7)\n",
            "Installing collected packages: pluggy, pytest, coverage, pytest-cov\n",
            "  Attempting uninstall: pluggy\n",
            "    Found existing installation: pluggy 0.7.1\n",
            "    Uninstalling pluggy-0.7.1:\n",
            "      Successfully uninstalled pluggy-0.7.1\n",
            "  Attempting uninstall: pytest\n",
            "    Found existing installation: pytest 3.6.4\n",
            "    Uninstalling pytest-3.6.4:\n",
            "      Successfully uninstalled pytest-3.6.4\n",
            "  Attempting uninstall: coverage\n",
            "    Found existing installation: coverage 3.7.1\n",
            "    Uninstalling coverage-3.7.1:\n",
            "      Successfully uninstalled coverage-3.7.1\n",
            "\u001b[31mERROR: pip's dependency resolver does not currently take into account all the packages that are installed. This behaviour is the source of the following dependency conflicts.\n",
            "datascience 0.10.6 requires coverage==3.7.1, but you have coverage 5.5 which is incompatible.\n",
            "datascience 0.10.6 requires folium==0.2.1, but you have folium 0.8.3 which is incompatible.\n",
            "coveralls 0.5 requires coverage<3.999,>=3.6, but you have coverage 5.5 which is incompatible.\u001b[0m\n",
            "Successfully installed coverage-5.5 pluggy-0.13.1 pytest-6.2.4 pytest-cov-2.12.1\n"
          ],
          "name": "stdout"
        }
      ]
    },
    {
      "cell_type": "code",
      "metadata": {
        "colab": {
          "base_uri": "https://localhost:8080/"
        },
        "id": "BjnZeWmYb4pe",
        "outputId": "882eda7f-7b05-4748-b9a0-fc0b1943ac1a"
      },
      "source": [
        "!pip install git+https://github.com/pytest-dev/pytest-cov"
      ],
      "execution_count": null,
      "outputs": [
        {
          "output_type": "stream",
          "text": [
            "Collecting git+https://github.com/pytest-dev/pytest-cov\n",
            "  Cloning https://github.com/pytest-dev/pytest-cov to /tmp/pip-req-build-t6hinhb8\n",
            "  Running command git clone -q https://github.com/pytest-dev/pytest-cov /tmp/pip-req-build-t6hinhb8\n",
            "Requirement already satisfied: pytest>=4.6 in /usr/local/lib/python3.7/dist-packages (from pytest-cov==2.12.1) (6.2.4)\n",
            "Requirement already satisfied: coverage[toml]>=5.2.1 in /usr/local/lib/python3.7/dist-packages (from pytest-cov==2.12.1) (5.5)\n",
            "Requirement already satisfied: toml in /usr/local/lib/python3.7/dist-packages (from coverage[toml]>=5.2.1->pytest-cov==2.12.1) (0.10.2)\n",
            "Requirement already satisfied: packaging in /usr/local/lib/python3.7/dist-packages (from pytest>=4.6->pytest-cov==2.12.1) (21.0)\n",
            "Requirement already satisfied: importlib-metadata>=0.12 in /usr/local/lib/python3.7/dist-packages (from pytest>=4.6->pytest-cov==2.12.1) (4.6.1)\n",
            "Requirement already satisfied: attrs>=19.2.0 in /usr/local/lib/python3.7/dist-packages (from pytest>=4.6->pytest-cov==2.12.1) (21.2.0)\n",
            "Requirement already satisfied: py>=1.8.2 in /usr/local/lib/python3.7/dist-packages (from pytest>=4.6->pytest-cov==2.12.1) (1.10.0)\n",
            "Requirement already satisfied: iniconfig in /usr/local/lib/python3.7/dist-packages (from pytest>=4.6->pytest-cov==2.12.1) (1.1.1)\n",
            "Requirement already satisfied: pluggy<1.0.0a1,>=0.12 in /usr/local/lib/python3.7/dist-packages (from pytest>=4.6->pytest-cov==2.12.1) (0.13.1)\n",
            "Requirement already satisfied: typing-extensions>=3.6.4 in /usr/local/lib/python3.7/dist-packages (from importlib-metadata>=0.12->pytest>=4.6->pytest-cov==2.12.1) (3.7.4.3)\n",
            "Requirement already satisfied: zipp>=0.5 in /usr/local/lib/python3.7/dist-packages (from importlib-metadata>=0.12->pytest>=4.6->pytest-cov==2.12.1) (3.5.0)\n",
            "Requirement already satisfied: pyparsing>=2.0.2 in /usr/local/lib/python3.7/dist-packages (from packaging->pytest>=4.6->pytest-cov==2.12.1) (2.4.7)\n"
          ],
          "name": "stdout"
        }
      ]
    },
    {
      "cell_type": "code",
      "metadata": {
        "colab": {
          "base_uri": "https://localhost:8080/"
        },
        "id": "6szoNbaT2eUX",
        "outputId": "5ed806d7-2ff0-4c45-8426-9702e55a7539"
      },
      "source": [
        "!pip install pytest==6.2.4"
      ],
      "execution_count": null,
      "outputs": [
        {
          "output_type": "stream",
          "text": [
            "Requirement already satisfied: pytest==6.2.4 in /usr/local/lib/python3.7/dist-packages (6.2.4)\n",
            "Requirement already satisfied: attrs>=19.2.0 in /usr/local/lib/python3.7/dist-packages (from pytest==6.2.4) (21.2.0)\n",
            "Requirement already satisfied: toml in /usr/local/lib/python3.7/dist-packages (from pytest==6.2.4) (0.10.2)\n",
            "Requirement already satisfied: importlib-metadata>=0.12 in /usr/local/lib/python3.7/dist-packages (from pytest==6.2.4) (4.6.1)\n",
            "Requirement already satisfied: py>=1.8.2 in /usr/local/lib/python3.7/dist-packages (from pytest==6.2.4) (1.10.0)\n",
            "Requirement already satisfied: pluggy<1.0.0a1,>=0.12 in /usr/local/lib/python3.7/dist-packages (from pytest==6.2.4) (0.13.1)\n",
            "Requirement already satisfied: iniconfig in /usr/local/lib/python3.7/dist-packages (from pytest==6.2.4) (1.1.1)\n",
            "Requirement already satisfied: packaging in /usr/local/lib/python3.7/dist-packages (from pytest==6.2.4) (21.0)\n",
            "Requirement already satisfied: zipp>=0.5 in /usr/local/lib/python3.7/dist-packages (from importlib-metadata>=0.12->pytest==6.2.4) (3.5.0)\n",
            "Requirement already satisfied: typing-extensions>=3.6.4 in /usr/local/lib/python3.7/dist-packages (from importlib-metadata>=0.12->pytest==6.2.4) (3.7.4.3)\n",
            "Requirement already satisfied: pyparsing>=2.0.2 in /usr/local/lib/python3.7/dist-packages (from packaging->pytest==6.2.4) (2.4.7)\n"
          ],
          "name": "stdout"
        }
      ]
    },
    {
      "cell_type": "code",
      "metadata": {
        "colab": {
          "base_uri": "https://localhost:8080/"
        },
        "id": "BTWHdUQLcL9Y",
        "outputId": "d6df00d4-ee93-43d4-e31a-0594cc592e2a"
      },
      "source": [
        "%%writefile conftest.py\n",
        "def pytest_addoption(parser):\n",
        "    \"\"\"Turn nice features on with --nice option.\"\"\"\n",
        "    group = parser.getgroup('nice')\n",
        "    group.addoption('--nice', action='store_true',\n",
        "                    help='nice: turn failures into happy accident')\n",
        "\n",
        "\n",
        "def pytest_report_header(config):\n",
        "    \"\"\"Thank the tester.\"\"\"\n",
        "    if config.getoption('--nice'):\n",
        "        return \"I'm so glad we'll be testing together today 😀.\"\n",
        "\n",
        "def pytest_report_teststatus(report, config):\n",
        "    nice = config.getoption('--nice')\n",
        "    if report.when == 'call' and report.failed and nice:\n",
        "        return report.outcome, 'A', 'HAPPY ACCIDENT 💡'\n",
        "    elif report.when == 'call' and report.passed and nice:\n",
        "        return report.outcome, 'P', 'PERFECTION 👍'"
      ],
      "execution_count": null,
      "outputs": [
        {
          "output_type": "stream",
          "text": [
            "Writing conftest.py\n"
          ],
          "name": "stdout"
        }
      ]
    },
    {
      "cell_type": "code",
      "metadata": {
        "colab": {
          "base_uri": "https://localhost:8080/"
        },
        "id": "luyCjN-j1e9E",
        "outputId": "101994be-225b-46e8-e1dd-8f3bfbbf99f1"
      },
      "source": [
        "%%writefile my_test.py\n",
        "def test_this():\n",
        "  assert 1 == 0\n",
        "\n",
        "def test_That():\n",
        "  assert 1 == 1"
      ],
      "execution_count": null,
      "outputs": [
        {
          "output_type": "stream",
          "text": [
            "Writing my_test.py\n"
          ],
          "name": "stdout"
        }
      ]
    },
    {
      "cell_type": "code",
      "metadata": {
        "colab": {
          "base_uri": "https://localhost:8080/"
        },
        "id": "idZ48Rsm1mQW",
        "outputId": "ddd7977f-1b28-45ac-9b1b-eb1aba8364de"
      },
      "source": [
        "!python3 -m pytest my_test.py --nice -v"
      ],
      "execution_count": null,
      "outputs": [
        {
          "output_type": "stream",
          "text": [
            "\u001b[1m============================= test session starts ==============================\u001b[0m\n",
            "platform linux -- Python 3.7.11, pytest-6.2.4, py-1.10.0, pluggy-0.13.1 -- /usr/bin/python3\n",
            "cachedir: .pytest_cache\n",
            "I'm so glad we'll be testing together today 😀.\n",
            "rootdir: /content\n",
            "plugins: cov-2.12.1, typeguard-2.7.1\n",
            "\u001b[1mcollecting ... \u001b[0m\u001b[1m\rcollected 2 items                                                              \u001b[0m\n",
            "\n",
            "my_test.py::test_this \u001b[31mHAPPY ACCIDENT 💡\u001b[0m\u001b[31m                                  [ 50%]\u001b[0m\n",
            "my_test.py::test_That \u001b[32mPERFECTION 👍\u001b[0m\u001b[31m                                      [100%]\u001b[0m\n",
            "\n",
            "=================================== FAILURES ===================================\n",
            "\u001b[31m\u001b[1m__________________________________ test_this ___________________________________\u001b[0m\n",
            "\n",
            "    \u001b[94mdef\u001b[39;49;00m \u001b[92mtest_this\u001b[39;49;00m():\n",
            ">     \u001b[94massert\u001b[39;49;00m \u001b[94m1\u001b[39;49;00m == \u001b[94m0\u001b[39;49;00m\n",
            "\u001b[1m\u001b[31mE     assert 1 == 0\u001b[0m\n",
            "\u001b[1m\u001b[31mE       +1\u001b[0m\n",
            "\u001b[1m\u001b[31mE       -0\u001b[0m\n",
            "\n",
            "\u001b[1m\u001b[31mmy_test.py\u001b[0m:2: AssertionError\n",
            "=========================== short test summary info ============================\n",
            "HAPPY ACCIDENT 💡 my_test.py::test_this - assert 1 == 0\n",
            "\u001b[31m========================= \u001b[31m\u001b[1m1 failed\u001b[0m, \u001b[32m1 passed\u001b[0m\u001b[31m in 0.09s\u001b[0m\u001b[31m ==========================\u001b[0m\n"
          ],
          "name": "stdout"
        }
      ]
    },
    {
      "cell_type": "markdown",
      "metadata": {
        "id": "bYJTt_ZabaC4"
      },
      "source": [
        "# Create installable plugin"
      ]
    },
    {
      "cell_type": "code",
      "metadata": {
        "id": "wFCm8hTw4lQV"
      },
      "source": [
        "%%bash\n",
        "mkdir pytest-nice\n",
        "cd pytest-nice\n",
        "touch LICENSE\n",
        "touch README.rst\n",
        "touch pytest_nice.py\n",
        "touch setup.py\n",
        "mkdir tests\n",
        "cd tests\n",
        "touch conftest.py\n",
        "touch test_nice.py"
      ],
      "execution_count": null,
      "outputs": []
    },
    {
      "cell_type": "code",
      "metadata": {
        "colab": {
          "base_uri": "https://localhost:8080/"
        },
        "id": "r1YUiu0QcFpH",
        "outputId": "de8f3a7f-67a3-4854-aca9-e91b6744619d"
      },
      "source": [
        "%%writefile pytest-nice/pytest_nice.py\n",
        "import pytest\n",
        "\n",
        "def pytest_addoption(parser):\n",
        "  group = parser.getgroup('nice')\n",
        "  group.addoption('--nice', action='store_true',\n",
        "                  help='nice: turn FIALED into OPPORTUNITY for improvement')\n",
        "\n",
        "def pytest_report_header(config):\n",
        "  if config.getoption('nice'):\n",
        "    return 'Thanks for running the tests!'\n",
        "  \n",
        "def pytest_report_teststatus(config, report):\n",
        "  if report.when == 'call':\n",
        "    if report.failed and config.getoption('nice'):\n",
        "      return report.outcome, 'O', 'OPPORTUNITY for improvement'"
      ],
      "execution_count": null,
      "outputs": [
        {
          "output_type": "stream",
          "text": [
            "Overwriting pytest-nice/pytest_nice.py\n"
          ],
          "name": "stdout"
        }
      ]
    },
    {
      "cell_type": "code",
      "metadata": {
        "colab": {
          "base_uri": "https://localhost:8080/"
        },
        "id": "HxiP_7qcc6fy",
        "outputId": "64c1b634-3610-4cf1-a999-3b06a67be3e2"
      },
      "source": [
        "%%writefile pytest-nice/setup.py\n",
        "from setuptools import setup\n",
        "\n",
        "setup(name='pytest-nice',\n",
        "      version='0.1.0',\n",
        "      description='A nice plugin',\n",
        "      uirl='https://colab.research.google.com',\n",
        "      author='Nature',\n",
        "      author_email='the_wind_at_your_back@nature.earth',\n",
        "      license='free',\n",
        "      py_modules=['pytest_nice'],\n",
        "      install_requires=['pytest'],\n",
        "      entry_points={'pytest11': ['nice=pytest_nice',],})"
      ],
      "execution_count": null,
      "outputs": [
        {
          "output_type": "stream",
          "text": [
            "Overwriting pytest-nice/setup.py\n"
          ],
          "name": "stdout"
        }
      ]
    },
    {
      "cell_type": "code",
      "metadata": {
        "colab": {
          "base_uri": "https://localhost:8080/"
        },
        "id": "gGi42kzEdhlB",
        "outputId": "87e4f6f2-9423-4c8b-cbb1-334312fb6530"
      },
      "source": [
        "%%writefile pytest-nice/tests/conftest.py\n",
        "pytest_plugins = 'pytester'"
      ],
      "execution_count": null,
      "outputs": [
        {
          "output_type": "stream",
          "text": [
            "Overwriting pytest-nice/tests/conftest.py\n"
          ],
          "name": "stdout"
        }
      ]
    },
    {
      "cell_type": "code",
      "metadata": {
        "colab": {
          "base_uri": "https://localhost:8080/"
        },
        "id": "jfGRLOGBd85k",
        "outputId": "8c12939c-d352-41a5-f120-59bd4cff2c4f"
      },
      "source": [
        "%%writefile pytest-nice/tests/test_nice.py\n",
        "import pytest\n",
        "\n",
        "\n",
        "def test_pass_fail(testdir):\n",
        "  # create a temporary pytest test module\n",
        "  testdir.makepyfile(\"\"\"\n",
        "  def test_pass():\n",
        "    assert 1 == 1\n",
        "\n",
        "  def test_fail():\n",
        "    assert 1 == 2\n",
        "\n",
        "  \"\"\")\n",
        "  result = testdir.runpytest()\n",
        "\n",
        "  result.stdout.fnmatch_lines(['*.F*'])\n",
        "\n",
        "  assert result.ret == 1\n",
        "\n",
        "@pytest.fixture()\n",
        "def sample_test(testdir):\n",
        "  testdir.makepyfile(\"\"\"\n",
        "  def test_pass():\n",
        "    assert 1 == 1\n",
        "  \n",
        "  def test_fail():\n",
        "    assert 1 == 2\n",
        "    \"\"\")\n",
        "  return testdir\n",
        "\n",
        "def test_with_nice(sample_test):\n",
        "  result = sample_test.runpytest('--nice')\n",
        "  result.stdout.fnmatch_lines(['*.O*'])\n",
        "  assert result.ret == 1\n",
        "\n",
        "def test_with_nice_verbose(sample_test):\n",
        "  result = sample_test.runpytest('-v', '--nice')\n",
        "  result.stdout.fnmatch_lines(['*::test_fail OPPORTUNITY for improvement*'])\n",
        "  assert result.ret == 1\n",
        "\n",
        "def test_not_nice_verbose(sample_test):\n",
        "  result = sample_test.runpytest('-v')\n",
        "  result.stdout.fnmatch_lines(['*::test_fail FAILED*'])\n",
        "  assert result.ret == 1\n",
        "\n",
        "def test_header(sample_test):\n",
        "  result = sample_test.runpytest('--nice')\n",
        "  result.stdout.fnmatch_lines(['*Thanks for running the tests*'])\n",
        "\n",
        "def test_header_not_nice(sample_test):\n",
        "  result =  sample_test.runpytest()\n",
        "  thanks_message = 'Thanks for running the tests!'\n",
        "  assert thanks_message not in result.stdout.str()\n",
        "\n",
        "def test_help_message(testdir):\n",
        "  result = testdir.runpytest('--help')\n",
        "\n",
        "  result.stdout.fnmatch_lines(['nice:', '*nice: turn FIALED into OPPORTUNITY for improvement*'])"
      ],
      "execution_count": null,
      "outputs": [
        {
          "output_type": "stream",
          "text": [
            "Overwriting pytest-nice/tests/test_nice.py\n"
          ],
          "name": "stdout"
        }
      ]
    },
    {
      "cell_type": "code",
      "metadata": {
        "colab": {
          "base_uri": "https://localhost:8080/"
        },
        "id": "KmGWU1SLgee8",
        "outputId": "2e401282-4a7a-4c4e-896b-aed2db6da45d"
      },
      "source": [
        "%%bash\n",
        "cd pytest-nice\n",
        "pip install ."
      ],
      "execution_count": null,
      "outputs": [
        {
          "output_type": "stream",
          "text": [
            "Processing /content/pytest-nice\n",
            "Requirement already satisfied: pytest in /usr/local/lib/python3.7/dist-packages (from pytest-nice==0.1.0) (6.2.4)\n",
            "Requirement already satisfied: importlib-metadata>=0.12 in /usr/local/lib/python3.7/dist-packages (from pytest->pytest-nice==0.1.0) (4.6.1)\n",
            "Requirement already satisfied: py>=1.8.2 in /usr/local/lib/python3.7/dist-packages (from pytest->pytest-nice==0.1.0) (1.10.0)\n",
            "Requirement already satisfied: pluggy<1.0.0a1,>=0.12 in /usr/local/lib/python3.7/dist-packages (from pytest->pytest-nice==0.1.0) (0.13.1)\n",
            "Requirement already satisfied: attrs>=19.2.0 in /usr/local/lib/python3.7/dist-packages (from pytest->pytest-nice==0.1.0) (21.2.0)\n",
            "Requirement already satisfied: toml in /usr/local/lib/python3.7/dist-packages (from pytest->pytest-nice==0.1.0) (0.10.2)\n",
            "Requirement already satisfied: packaging in /usr/local/lib/python3.7/dist-packages (from pytest->pytest-nice==0.1.0) (21.0)\n",
            "Requirement already satisfied: iniconfig in /usr/local/lib/python3.7/dist-packages (from pytest->pytest-nice==0.1.0) (1.1.1)\n",
            "Requirement already satisfied: zipp>=0.5 in /usr/local/lib/python3.7/dist-packages (from importlib-metadata>=0.12->pytest->pytest-nice==0.1.0) (3.5.0)\n",
            "Requirement already satisfied: typing-extensions>=3.6.4 in /usr/local/lib/python3.7/dist-packages (from importlib-metadata>=0.12->pytest->pytest-nice==0.1.0) (3.7.4.3)\n",
            "Requirement already satisfied: pyparsing>=2.0.2 in /usr/local/lib/python3.7/dist-packages (from packaging->pytest->pytest-nice==0.1.0) (2.4.7)\n",
            "Building wheels for collected packages: pytest-nice\n",
            "  Building wheel for pytest-nice (setup.py): started\n",
            "  Building wheel for pytest-nice (setup.py): finished with status 'done'\n",
            "  Created wheel for pytest-nice: filename=pytest_nice-0.1.0-py3-none-any.whl size=1947 sha256=938fee4cd5c9e5849ffbe6b13202c26db1374d3b3d6c4d23b849c834d247e932\n",
            "  Stored in directory: /root/.cache/pip/wheels/2c/9c/ab/a858f36277f84110f985da5319ef9011e13b359f9fdff40ec0\n",
            "Successfully built pytest-nice\n",
            "Installing collected packages: pytest-nice\n",
            "Successfully installed pytest-nice-0.1.0\n"
          ],
          "name": "stdout"
        },
        {
          "output_type": "stream",
          "text": [
            "  DEPRECATION: A future pip version will change local packages to be built in-place without first copying to a temporary directory. We recommend you use --use-feature=in-tree-build to test your packages with this new behavior before it becomes the default.\n",
            "   pip 21.3 will remove support for this functionality. You can find discussion regarding this at https://github.com/pypa/pip/issues/7555.\n"
          ],
          "name": "stderr"
        }
      ]
    },
    {
      "cell_type": "code",
      "metadata": {
        "colab": {
          "base_uri": "https://localhost:8080/"
        },
        "id": "a7VSQ7mXgjn1",
        "outputId": "c4f6d1ef-cbe4-48b8-b3a0-cd32f47a0c07"
      },
      "source": [
        "!python3 -m pytest pytest-nice -v"
      ],
      "execution_count": null,
      "outputs": [
        {
          "output_type": "stream",
          "text": [
            "Traceback (most recent call last):\n",
            "  File \"/usr/lib/python3.7/runpy.py\", line 193, in _run_module_as_main\n",
            "    \"__main__\", mod_spec)\n",
            "  File \"/usr/lib/python3.7/runpy.py\", line 85, in _run_code\n",
            "    exec(code, run_globals)\n",
            "  File \"/usr/local/lib/python3.7/dist-packages/pytest/__main__.py\", line 5, in <module>\n",
            "    raise SystemExit(pytest.console_main())\n",
            "  File \"/usr/local/lib/python3.7/dist-packages/_pytest/config/__init__.py\", line 185, in console_main\n",
            "    code = main()\n",
            "  File \"/usr/local/lib/python3.7/dist-packages/_pytest/config/__init__.py\", line 143, in main\n",
            "    config = _prepareconfig(args, plugins)\n",
            "  File \"/usr/local/lib/python3.7/dist-packages/_pytest/config/__init__.py\", line 319, in _prepareconfig\n",
            "    pluginmanager=pluginmanager, args=args\n",
            "  File \"/usr/local/lib/python3.7/dist-packages/pluggy/hooks.py\", line 286, in __call__\n",
            "    return self._hookexec(self, self.get_hookimpls(), kwargs)\n",
            "  File \"/usr/local/lib/python3.7/dist-packages/pluggy/manager.py\", line 93, in _hookexec\n",
            "    return self._inner_hookexec(hook, methods, kwargs)\n",
            "  File \"/usr/local/lib/python3.7/dist-packages/pluggy/manager.py\", line 87, in <lambda>\n",
            "    firstresult=hook.spec.opts.get(\"firstresult\") if hook.spec else False,\n",
            "  File \"/usr/local/lib/python3.7/dist-packages/pluggy/callers.py\", line 203, in _multicall\n",
            "    gen.send(outcome)\n",
            "  File \"/usr/local/lib/python3.7/dist-packages/_pytest/helpconfig.py\", line 100, in pytest_cmdline_parse\n",
            "    config: Config = outcome.get_result()\n",
            "  File \"/usr/local/lib/python3.7/dist-packages/pluggy/callers.py\", line 80, in get_result\n",
            "    raise ex[1].with_traceback(ex[2])\n",
            "  File \"/usr/local/lib/python3.7/dist-packages/pluggy/callers.py\", line 187, in _multicall\n",
            "    res = hook_impl.function(*args)\n",
            "  File \"/usr/local/lib/python3.7/dist-packages/_pytest/config/__init__.py\", line 1003, in pytest_cmdline_parse\n",
            "    self.parse(args)\n",
            "  File \"/usr/local/lib/python3.7/dist-packages/_pytest/config/__init__.py\", line 1283, in parse\n",
            "    self._preparse(args, addopts=addopts)\n",
            "  File \"/usr/local/lib/python3.7/dist-packages/_pytest/config/__init__.py\", line 1192, in _preparse\n",
            "    early_config=self, args=args, parser=self._parser\n",
            "  File \"/usr/local/lib/python3.7/dist-packages/pluggy/hooks.py\", line 286, in __call__\n",
            "    return self._hookexec(self, self.get_hookimpls(), kwargs)\n",
            "  File \"/usr/local/lib/python3.7/dist-packages/pluggy/manager.py\", line 93, in _hookexec\n",
            "    return self._inner_hookexec(hook, methods, kwargs)\n",
            "  File \"/usr/local/lib/python3.7/dist-packages/pluggy/manager.py\", line 87, in <lambda>\n",
            "    firstresult=hook.spec.opts.get(\"firstresult\") if hook.spec else False,\n",
            "  File \"/usr/local/lib/python3.7/dist-packages/pluggy/callers.py\", line 208, in _multicall\n",
            "    return outcome.get_result()\n",
            "  File \"/usr/local/lib/python3.7/dist-packages/pluggy/callers.py\", line 80, in get_result\n",
            "    raise ex[1].with_traceback(ex[2])\n",
            "  File \"/usr/local/lib/python3.7/dist-packages/pluggy/callers.py\", line 187, in _multicall\n",
            "    res = hook_impl.function(*args)\n",
            "  File \"/usr/local/lib/python3.7/dist-packages/_pytest/config/__init__.py\", line 1070, in pytest_load_initial_conftests\n",
            "    self.pluginmanager._set_initial_conftests(early_config.known_args_namespace)\n",
            "  File \"/usr/local/lib/python3.7/dist-packages/_pytest/config/__init__.py\", line 500, in _set_initial_conftests\n",
            "    self._try_load_conftest(anchor, namespace.importmode)\n",
            "  File \"/usr/local/lib/python3.7/dist-packages/_pytest/config/__init__.py\", line 508, in _try_load_conftest\n",
            "    self._getconftestmodules(anchor, importmode)\n",
            "  File \"/usr/local/lib/python3.7/dist-packages/_pytest/config/__init__.py\", line 536, in _getconftestmodules\n",
            "    mod = self._importconftest(conftestpath, importmode)\n",
            "  File \"/usr/local/lib/python3.7/dist-packages/_pytest/config/__init__.py\", line 587, in _importconftest\n",
            "    self.consider_conftest(mod)\n",
            "  File \"/usr/local/lib/python3.7/dist-packages/_pytest/config/__init__.py\", line 663, in consider_conftest\n",
            "    self.register(conftestmodule, name=conftestmodule.__file__)\n",
            "  File \"/usr/local/lib/python3.7/dist-packages/_pytest/config/__init__.py\", line 436, in register\n",
            "    ret: Optional[str] = super().register(plugin, name)\n",
            "  File \"/usr/local/lib/python3.7/dist-packages/pluggy/manager.py\", line 127, in register\n",
            "    hook._maybe_apply_history(hookimpl)\n",
            "  File \"/usr/local/lib/python3.7/dist-packages/pluggy/hooks.py\", line 333, in _maybe_apply_history\n",
            "    res = self._hookexec(self, [method], kwargs)\n",
            "  File \"/usr/local/lib/python3.7/dist-packages/pluggy/manager.py\", line 93, in _hookexec\n",
            "    return self._inner_hookexec(hook, methods, kwargs)\n",
            "  File \"/usr/local/lib/python3.7/dist-packages/pluggy/manager.py\", line 87, in <lambda>\n",
            "    firstresult=hook.spec.opts.get(\"firstresult\") if hook.spec else False,\n",
            "  File \"/usr/local/lib/python3.7/dist-packages/pluggy/callers.py\", line 208, in _multicall\n",
            "    return outcome.get_result()\n",
            "  File \"/usr/local/lib/python3.7/dist-packages/pluggy/callers.py\", line 80, in get_result\n",
            "    raise ex[1].with_traceback(ex[2])\n",
            "  File \"/usr/local/lib/python3.7/dist-packages/pluggy/callers.py\", line 187, in _multicall\n",
            "    res = hook_impl.function(*args)\n",
            "  File \"/content/conftest.py\", line 5, in pytest_addoption\n",
            "    help='nice: turn failures into happy accident')\n",
            "  File \"/usr/local/lib/python3.7/dist-packages/_pytest/config/argparsing.py\", line 355, in addoption\n",
            "    raise ValueError(\"option names %s already added\" % conflict)\n",
            "ValueError: option names {'--nice'} already added\n"
          ],
          "name": "stdout"
        }
      ]
    },
    {
      "cell_type": "code",
      "metadata": {
        "id": "3mtXyydFklVB"
      },
      "source": [
        "!pip uninstall pytest-nice"
      ],
      "execution_count": null,
      "outputs": []
    }
  ]
}