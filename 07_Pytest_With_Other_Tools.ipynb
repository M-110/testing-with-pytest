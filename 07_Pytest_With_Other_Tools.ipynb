{
  "nbformat": 4,
  "nbformat_minor": 0,
  "metadata": {
    "colab": {
      "name": "07_Pytest_With_Other_Tools.ipynb",
      "provenance": [],
      "collapsed_sections": [],
      "authorship_tag": "ABX9TyMdfvNLCwn/P+VYTtKwow5v",
      "include_colab_link": true
    },
    "kernelspec": {
      "name": "python3",
      "display_name": "Python 3"
    },
    "language_info": {
      "name": "python"
    }
  },
  "cells": [
    {
      "cell_type": "markdown",
      "metadata": {
        "id": "view-in-github",
        "colab_type": "text"
      },
      "source": [
        "<a href=\"https://colab.research.google.com/github/M-110/testing-with-pytest/blob/main/07_Pytest_With_Other_Tools.ipynb\" target=\"_parent\"><img src=\"https://colab.research.google.com/assets/colab-badge.svg\" alt=\"Open In Colab\"/></a>"
      ]
    },
    {
      "cell_type": "markdown",
      "source": [
        "# Highlights\n",
        "* Coverage report"
      ],
      "metadata": {
        "id": "pPHQWg0jAy4P"
      }
    },
    {
      "cell_type": "markdown",
      "metadata": {
        "id": "MrefJtNBBwp0"
      },
      "source": [
        "# pdb: Debugging Test Failures"
      ]
    },
    {
      "cell_type": "markdown",
      "metadata": {
        "id": "WRoxyZvTOc1z"
      },
      "source": [
        "--pdb allows you to enter into the context of the failure through the command line."
      ]
    },
    {
      "cell_type": "code",
      "metadata": {
        "id": "6Sy8WDzzBo4K",
        "colab": {
          "base_uri": "https://localhost:8080/"
        },
        "outputId": "ec3c5258-ba1f-4859-bea1-5fd3fed28320"
      },
      "source": [
        "%%writefile test_me.py\n",
        "\n",
        "def test_a():\n",
        "  a = 5\n",
        "  b = 6\n",
        "  assert 2 > a + b"
      ],
      "execution_count": null,
      "outputs": [
        {
          "output_type": "stream",
          "text": [
            "Writing test_me.py\n"
          ],
          "name": "stdout"
        }
      ]
    },
    {
      "cell_type": "code",
      "metadata": {
        "colab": {
          "base_uri": "https://localhost:8080/"
        },
        "id": "zZ-xctjyNnEE",
        "outputId": "37685a6f-2243-467d-c46e-0539ce7dd676"
      },
      "source": [
        "!pytest --tb=no -q"
      ],
      "execution_count": null,
      "outputs": [
        {
          "output_type": "stream",
          "text": [
            "F\u001b[36m                                                                        [100%]\u001b[0m\n",
            "\u001b[1m\u001b[31m1 failed in 0.04 seconds\u001b[0m\n"
          ],
          "name": "stdout"
        }
      ]
    },
    {
      "cell_type": "code",
      "metadata": {
        "colab": {
          "base_uri": "https://localhost:8080/"
        },
        "id": "jshv3E9IOCeE",
        "outputId": "28b41df0-9282-423d-90b4-3f3d16b9e365"
      },
      "source": [
        "!pytest --tb=no -v --lf --maxfail=3"
      ],
      "execution_count": null,
      "outputs": [
        {
          "output_type": "stream",
          "text": [
            "\u001b[1m============================= test session starts ==============================\u001b[0m\n",
            "platform linux2 -- Python 2.7.17, pytest-3.6.4, py-1.8.0, pluggy-0.7.1 -- /usr/bin/python2\n",
            "cachedir: .pytest_cache\n",
            "rootdir: /content, inifile:\n",
            "\u001b[1m\rcollecting 0 items                                                             \u001b[0m\u001b[1m\rcollecting 1 item                                                              \u001b[0m\u001b[1m\rcollected 1 item                                                               \u001b[0m\n",
            "run-last-failure: rerun previous 1 failure\n",
            "\n",
            "test_me.py::test_a \u001b[31mFAILED\u001b[0m\u001b[36m                                                [100%]\u001b[0m\n",
            "\n",
            "\u001b[1m\u001b[31m=========================== 1 failed in 0.02 seconds ===========================\u001b[0m\n"
          ],
          "name": "stdout"
        }
      ]
    },
    {
      "cell_type": "code",
      "metadata": {
        "colab": {
          "base_uri": "https://localhost:8080/"
        },
        "id": "gq0JAE6zOIu2",
        "outputId": "dc1d06e2-0e6b-4cd8-89af-255619cd6b07"
      },
      "source": [
        "!pytest -v --lf -l -x"
      ],
      "execution_count": null,
      "outputs": [
        {
          "output_type": "stream",
          "text": [
            "\u001b[1m============================= test session starts ==============================\u001b[0m\n",
            "platform linux2 -- Python 2.7.17, pytest-3.6.4, py-1.8.0, pluggy-0.7.1 -- /usr/bin/python2\n",
            "cachedir: .pytest_cache\n",
            "rootdir: /content, inifile:\n",
            "\u001b[1m\rcollecting 0 items                                                             \u001b[0m\u001b[1m\rcollecting 1 item                                                              \u001b[0m\u001b[1m\rcollected 1 item                                                               \u001b[0m\n",
            "run-last-failure: rerun previous 1 failure\n",
            "\n",
            "test_me.py::test_a \u001b[31mFAILED\u001b[0m\u001b[36m                                                [100%]\u001b[0m\n",
            "\n",
            "=================================== FAILURES ===================================\n",
            "\u001b[1m\u001b[31m____________________________________ test_a ____________________________________\u001b[0m\n",
            "\n",
            "\u001b[1m    def test_a():\u001b[0m\n",
            "\u001b[1m      a = 5\u001b[0m\n",
            "\u001b[1m      b = 6\u001b[0m\n",
            "\u001b[1m>     assert 2 > a + b\u001b[0m\n",
            "\u001b[1m\u001b[31mE     assert 2 > (5 + 6)\u001b[0m\n",
            "\n",
            "a          = 5\n",
            "b          = 6\n",
            "\n",
            "\u001b[1m\u001b[31mtest_me.py\u001b[0m:5: AssertionError\n",
            "\u001b[1m\u001b[31m=========================== 1 failed in 0.02 seconds ===========================\u001b[0m\n"
          ],
          "name": "stdout"
        }
      ]
    },
    {
      "cell_type": "code",
      "metadata": {
        "colab": {
          "base_uri": "https://localhost:8080/"
        },
        "id": "LyJPo2GNONLL",
        "outputId": "546b922b-a874-4685-cdad-f8bd92f2538c"
      },
      "source": [
        "!pytest -v --lf -x --pdb"
      ],
      "execution_count": null,
      "outputs": [
        {
          "output_type": "stream",
          "text": [
            "\u001b[1m============================= test session starts ==============================\u001b[0m\n",
            "platform linux2 -- Python 2.7.17, pytest-3.6.4, py-1.8.0, pluggy-0.7.1 -- /usr/bin/python2\n",
            "cachedir: .pytest_cache\n",
            "rootdir: /content, inifile:\n",
            "\u001b[1m\rcollecting 0 items                                                             \u001b[0m\u001b[1m\rcollecting 1 item                                                              \u001b[0m\u001b[1m\rcollected 1 item                                                               \u001b[0m\n",
            "run-last-failure: rerun previous 1 failure\n",
            "\n",
            "test_me.py::test_a \u001b[31mFAILED\u001b[0m\u001b[36m                                                [100%]\u001b[0m\n",
            ">>>>>>>>>>>>>>>>>>>>>>>>>>>>>>>>>> traceback >>>>>>>>>>>>>>>>>>>>>>>>>>>>>>>>>>>\n",
            "\n",
            "\u001b[1m    def test_a():\u001b[0m\n",
            "\u001b[1m      a = 5\u001b[0m\n",
            "\u001b[1m      b = 6\u001b[0m\n",
            "\u001b[1m>     assert 2 > a + b\u001b[0m\n",
            "\u001b[1m\u001b[31mE     assert 2 > (5 + 6)\u001b[0m\n",
            "\n",
            "\u001b[1m\u001b[31mtest_me.py\u001b[0m:5: AssertionError\n",
            ">>>>>>>>>>>>>>>>>>>>>>>>>>>>>>>>> entering PDB >>>>>>>>>>>>>>>>>>>>>>>>>>>>>>>>>\n",
            "> /content/test_me.py(5)test_a()\n",
            "-> assert 2 > a + b\n",
            "(Pdb) quit()\n",
            "\n",
            "\n",
            "\u001b[1m\u001b[31m========================== 1 failed in 43.07 seconds ===========================\u001b[0m\n"
          ],
          "name": "stdout"
        }
      ]
    },
    {
      "cell_type": "markdown",
      "metadata": {
        "id": "SHVyly6FOldA"
      },
      "source": [
        "# Coverage.py\n",
        "\n",
        "Measures what percentage of the code under test is being tested by a test suite."
      ]
    },
    {
      "cell_type": "code",
      "metadata": {
        "colab": {
          "base_uri": "https://localhost:8080/"
        },
        "id": "E0suKL0QOTxF",
        "outputId": "70c57650-c62b-4d6a-eaf8-11573d3a8bd2"
      },
      "source": [
        "!pip install pytest-cov"
      ],
      "execution_count": null,
      "outputs": [
        {
          "output_type": "stream",
          "text": [
            "Collecting pytest-cov\n",
            "  Downloading pytest_cov-2.12.1-py2.py3-none-any.whl (20 kB)\n",
            "Requirement already satisfied: toml in /usr/local/lib/python3.7/dist-packages (from pytest-cov) (0.10.2)\n",
            "Collecting coverage>=5.2.1\n",
            "  Downloading coverage-5.5-cp37-cp37m-manylinux2010_x86_64.whl (242 kB)\n",
            "\u001b[K     |████████████████████████████████| 242 kB 10.9 MB/s \n",
            "\u001b[?25hCollecting pytest>=4.6\n",
            "  Downloading pytest-6.2.4-py3-none-any.whl (280 kB)\n",
            "\u001b[K     |████████████████████████████████| 280 kB 47.3 MB/s \n",
            "\u001b[?25hRequirement already satisfied: importlib-metadata>=0.12 in /usr/local/lib/python3.7/dist-packages (from pytest>=4.6->pytest-cov) (4.6.1)\n",
            "Requirement already satisfied: packaging in /usr/local/lib/python3.7/dist-packages (from pytest>=4.6->pytest-cov) (21.0)\n",
            "Requirement already satisfied: attrs>=19.2.0 in /usr/local/lib/python3.7/dist-packages (from pytest>=4.6->pytest-cov) (21.2.0)\n",
            "Requirement already satisfied: pluggy<1.0.0a1,>=0.12 in /usr/local/lib/python3.7/dist-packages (from pytest>=4.6->pytest-cov) (0.13.1)\n",
            "Requirement already satisfied: py>=1.8.2 in /usr/local/lib/python3.7/dist-packages (from pytest>=4.6->pytest-cov) (1.10.0)\n",
            "Requirement already satisfied: iniconfig in /usr/local/lib/python3.7/dist-packages (from pytest>=4.6->pytest-cov) (1.1.1)\n",
            "Requirement already satisfied: zipp>=0.5 in /usr/local/lib/python3.7/dist-packages (from importlib-metadata>=0.12->pytest>=4.6->pytest-cov) (3.5.0)\n",
            "Requirement already satisfied: typing-extensions>=3.6.4 in /usr/local/lib/python3.7/dist-packages (from importlib-metadata>=0.12->pytest>=4.6->pytest-cov) (3.7.4.3)\n",
            "Requirement already satisfied: pyparsing>=2.0.2 in /usr/local/lib/python3.7/dist-packages (from packaging->pytest>=4.6->pytest-cov) (2.4.7)\n",
            "Installing collected packages: pytest, coverage, pytest-cov\n",
            "  Attempting uninstall: pytest\n",
            "    Found existing installation: pytest 3.6.4\n",
            "    Uninstalling pytest-3.6.4:\n",
            "      Successfully uninstalled pytest-3.6.4\n",
            "  Attempting uninstall: coverage\n",
            "    Found existing installation: coverage 3.7.1\n",
            "    Uninstalling coverage-3.7.1:\n",
            "      Successfully uninstalled coverage-3.7.1\n",
            "\u001b[31mERROR: pip's dependency resolver does not currently take into account all the packages that are installed. This behaviour is the source of the following dependency conflicts.\n",
            "datascience 0.10.6 requires coverage==3.7.1, but you have coverage 5.5 which is incompatible.\n",
            "datascience 0.10.6 requires folium==0.2.1, but you have folium 0.8.3 which is incompatible.\n",
            "coveralls 0.5 requires coverage<3.999,>=3.6, but you have coverage 5.5 which is incompatible.\u001b[0m\n",
            "Successfully installed coverage-5.5 pytest-6.2.4 pytest-cov-2.12.1\n"
          ],
          "name": "stdout"
        }
      ]
    },
    {
      "cell_type": "code",
      "metadata": {
        "id": "bFbhm2PpOva8"
      },
      "source": [
        "!mkdir src\n",
        "!rm test_me.py"
      ],
      "execution_count": null,
      "outputs": []
    },
    {
      "cell_type": "code",
      "metadata": {
        "id": "wMLlT8sRQcSq"
      },
      "source": [
        "!touch src/__init__.py"
      ],
      "execution_count": null,
      "outputs": []
    },
    {
      "cell_type": "code",
      "metadata": {
        "id": "IjLv80p6QlqA"
      },
      "source": [
        "!rm tests -fdr"
      ],
      "execution_count": null,
      "outputs": []
    },
    {
      "cell_type": "code",
      "metadata": {
        "colab": {
          "base_uri": "https://localhost:8080/"
        },
        "id": "MkUtPPMfPDEd",
        "outputId": "a228ac2e-d1bc-4a1c-fdc5-606f64019909"
      },
      "source": [
        "%%writefile src/super_math.py\n",
        "def super_add(a, b):\n",
        "  return a**b + b**a\n",
        "\n",
        "def super_mul(a, b):\n",
        "  return a**b * b**a\n",
        "\n",
        "def super_sub(a, b):\n",
        "  return a**b - b**a"
      ],
      "execution_count": null,
      "outputs": [
        {
          "output_type": "stream",
          "text": [
            "Writing src/super_math.py\n"
          ],
          "name": "stdout"
        }
      ]
    },
    {
      "cell_type": "code",
      "metadata": {
        "colab": {
          "base_uri": "https://localhost:8080/"
        },
        "id": "kEdyf0RePdN-",
        "outputId": "f402138c-679b-43b3-c69d-09aca85e541e"
      },
      "source": [
        "%%writefile test_super_math.py\n",
        "import pytest\n",
        "from src.super_math import super_add, super_mul\n",
        "\n",
        "\n",
        "@pytest.fixture()\n",
        "def a():\n",
        "  return 5\n",
        "\n",
        "@pytest.fixture()\n",
        "def b():\n",
        "  return 6\n",
        "\n",
        "def test_super_add(a, b):\n",
        "  assert super_add(a, b) == a**b + b**a\n",
        "\n",
        "def test_super_mull(a, b):\n",
        "  assert super_mul(a, b) == a * b"
      ],
      "execution_count": null,
      "outputs": [
        {
          "output_type": "stream",
          "text": [
            "Writing test_super_math.py\n"
          ],
          "name": "stdout"
        }
      ]
    },
    {
      "cell_type": "code",
      "metadata": {
        "colab": {
          "base_uri": "https://localhost:8080/"
        },
        "id": "JnMvEUi0QDlA",
        "outputId": "0e82ffa8-2a1c-4f87-ae26-babfe8756022"
      },
      "source": [
        "!pytest -v"
      ],
      "execution_count": null,
      "outputs": [
        {
          "output_type": "stream",
          "text": [
            "\u001b[1m============================= test session starts ==============================\u001b[0m\n",
            "platform linux -- Python 3.7.11, pytest-6.2.4, py-1.10.0, pluggy-0.13.1 -- /usr/bin/python3\n",
            "cachedir: .pytest_cache\n",
            "rootdir: /content\n",
            "plugins: cov-2.12.1, typeguard-2.7.1\n",
            "\u001b[1mcollecting ... \u001b[0m\u001b[1m\rcollected 2 items                                                              \u001b[0m\n",
            "\n",
            "test_super_math.py::test_super_add \u001b[32mPASSED\u001b[0m\u001b[32m                                [ 50%]\u001b[0m\n",
            "test_super_math.py::test_super_mull \u001b[31mFAILED\u001b[0m\u001b[31m                               [100%]\u001b[0m\n",
            "\n",
            "=================================== FAILURES ===================================\n",
            "\u001b[31m\u001b[1m_______________________________ test_super_mull ________________________________\u001b[0m\n",
            "\n",
            "a = 5, b = 6\n",
            "\n",
            "    \u001b[94mdef\u001b[39;49;00m \u001b[92mtest_super_mull\u001b[39;49;00m(a, b):\n",
            ">     \u001b[94massert\u001b[39;49;00m super_mul(a, b) == a * b\n",
            "\u001b[1m\u001b[31mE     assert 121500000 == 30\u001b[0m\n",
            "\u001b[1m\u001b[31mE       +121500000\u001b[0m\n",
            "\u001b[1m\u001b[31mE       -30\u001b[0m\n",
            "\n",
            "\u001b[1m\u001b[31mtest_super_math.py\u001b[0m:17: AssertionError\n",
            "=========================== short test summary info ============================\n",
            "FAILED test_super_math.py::test_super_mull - assert 121500000 == 30\n",
            "\u001b[31m========================= \u001b[31m\u001b[1m1 failed\u001b[0m, \u001b[32m1 passed\u001b[0m\u001b[31m in 0.10s\u001b[0m\u001b[31m ==========================\u001b[0m\n"
          ],
          "name": "stdout"
        }
      ]
    },
    {
      "cell_type": "code",
      "metadata": {
        "colab": {
          "base_uri": "https://localhost:8080/"
        },
        "id": "ULCoP1gKQEba",
        "outputId": "71b14930-cfb5-4058-e06a-6449a3467b0b"
      },
      "source": [
        "!pytest --cov=src -v --cov-report=html"
      ],
      "execution_count": null,
      "outputs": [
        {
          "output_type": "stream",
          "text": [
            "\u001b[1m============================= test session starts ==============================\u001b[0m\n",
            "platform linux -- Python 3.7.11, pytest-6.2.4, py-1.10.0, pluggy-0.13.1 -- /usr/bin/python3\n",
            "cachedir: .pytest_cache\n",
            "rootdir: /content\n",
            "plugins: cov-2.12.1, typeguard-2.7.1\n",
            "\u001b[1mcollecting ... \u001b[0m\u001b[1m\rcollected 2 items                                                              \u001b[0m\n",
            "\n",
            "test_super_math.py::test_super_add \u001b[32mPASSED\u001b[0m\u001b[32m                                [ 50%]\u001b[0m\n",
            "test_super_math.py::test_super_mull \u001b[31mFAILED\u001b[0m\u001b[31m                               [100%]\u001b[0m\n",
            "\n",
            "=================================== FAILURES ===================================\n",
            "\u001b[31m\u001b[1m_______________________________ test_super_mull ________________________________\u001b[0m\n",
            "\n",
            "a = 5, b = 6\n",
            "\n",
            "    \u001b[94mdef\u001b[39;49;00m \u001b[92mtest_super_mull\u001b[39;49;00m(a, b):\n",
            ">     \u001b[94massert\u001b[39;49;00m super_mul(a, b) == a * b\n",
            "\u001b[1m\u001b[31mE     assert 121500000 == 30\u001b[0m\n",
            "\u001b[1m\u001b[31mE       +121500000\u001b[0m\n",
            "\u001b[1m\u001b[31mE       -30\u001b[0m\n",
            "\n",
            "\u001b[1m\u001b[31mtest_super_math.py\u001b[0m:17: AssertionError\n",
            "\n",
            "---------- coverage: platform linux, python 3.7.11-final-0 -----------\n",
            "Coverage HTML written to dir htmlcov\n",
            "\n",
            "=========================== short test summary info ============================\n",
            "FAILED test_super_math.py::test_super_mull - assert 121500000 == 30\n",
            "\u001b[31m========================= \u001b[31m\u001b[1m1 failed\u001b[0m, \u001b[32m1 passed\u001b[0m\u001b[31m in 0.13s\u001b[0m\u001b[31m ==========================\u001b[0m\n"
          ],
          "name": "stdout"
        }
      ]
    },
    {
      "cell_type": "code",
      "metadata": {
        "colab": {
          "base_uri": "https://localhost:8080/",
          "height": 318
        },
        "id": "HbOiYt0SREZi",
        "outputId": "2545c66d-0616-443c-d704-9e8d1cb01e6d"
      },
      "source": [
        "from IPython.display import HTML\n",
        "\n",
        "HTML(filename='htmlcov/index.html')"
      ],
      "execution_count": null,
      "outputs": [
        {
          "output_type": "execute_result",
          "data": {
            "text/html": [
              "<!DOCTYPE html>\n",
              "<html>\n",
              "<head>\n",
              "    <meta http-equiv=\"Content-Type\" content=\"text/html; charset=utf-8\">\n",
              "    <title>Coverage report</title>\n",
              "    <link rel=\"icon\" sizes=\"32x32\" href=\"favicon_32.png\">\n",
              "    <link rel=\"stylesheet\" href=\"style.css\" type=\"text/css\">\n",
              "    <script type=\"text/javascript\" src=\"jquery.min.js\"></script>\n",
              "    <script type=\"text/javascript\" src=\"jquery.ba-throttle-debounce.min.js\"></script>\n",
              "    <script type=\"text/javascript\" src=\"jquery.tablesorter.min.js\"></script>\n",
              "    <script type=\"text/javascript\" src=\"jquery.hotkeys.js\"></script>\n",
              "    <script type=\"text/javascript\" src=\"coverage_html.js\"></script>\n",
              "    <script type=\"text/javascript\">\n",
              "        jQuery(document).ready(coverage.index_ready);\n",
              "    </script>\n",
              "</head>\n",
              "<body class=\"indexfile\">\n",
              "<div id=\"header\">\n",
              "    <div class=\"content\">\n",
              "        <h1>Coverage report:\n",
              "            <span class=\"pc_cov\">83%</span>\n",
              "        </h1>\n",
              "        <img id=\"keyboard_icon\" src=\"keybd_closed.png\" alt=\"Show keyboard shortcuts\" />\n",
              "        <form id=\"filter_container\">\n",
              "            <input id=\"filter\" type=\"text\" value=\"\" placeholder=\"filter...\" />\n",
              "        </form>\n",
              "    </div>\n",
              "</div>\n",
              "<div class=\"help_panel\">\n",
              "    <img id=\"panel_icon\" src=\"keybd_open.png\" alt=\"Hide keyboard shortcuts\" />\n",
              "    <p class=\"legend\">Hot-keys on this page</p>\n",
              "    <div>\n",
              "    <p class=\"keyhelp\">\n",
              "        <span class=\"key\">n</span>\n",
              "        <span class=\"key\">s</span>\n",
              "        <span class=\"key\">m</span>\n",
              "        <span class=\"key\">x</span>\n",
              "        <span class=\"key\">c</span> &nbsp; change column sorting\n",
              "    </p>\n",
              "    </div>\n",
              "</div>\n",
              "<div id=\"index\">\n",
              "    <table class=\"index\">\n",
              "        <thead>\n",
              "            <tr class=\"tablehead\" title=\"Click to sort\">\n",
              "                <th class=\"name left headerSortDown shortkey_n\">Module</th>\n",
              "                <th class=\"shortkey_s\">statements</th>\n",
              "                <th class=\"shortkey_m\">missing</th>\n",
              "                <th class=\"shortkey_x\">excluded</th>\n",
              "                <th class=\"right shortkey_c\">coverage</th>\n",
              "            </tr>\n",
              "        </thead>\n",
              "        <tfoot>\n",
              "            <tr class=\"total\">\n",
              "                <td class=\"name left\">Total</td>\n",
              "                <td>6</td>\n",
              "                <td>1</td>\n",
              "                <td>0</td>\n",
              "                <td class=\"right\" data-ratio=\"5 6\">83%</td>\n",
              "            </tr>\n",
              "        </tfoot>\n",
              "        <tbody>\n",
              "            <tr class=\"file\">\n",
              "                <td class=\"name left\"><a href=\"src___init___py.html\">src/__init__.py</a></td>\n",
              "                <td>0</td>\n",
              "                <td>0</td>\n",
              "                <td>0</td>\n",
              "                <td class=\"right\" data-ratio=\"0 0\">100%</td>\n",
              "            </tr>\n",
              "            <tr class=\"file\">\n",
              "                <td class=\"name left\"><a href=\"src_super_math_py.html\">src/super_math.py</a></td>\n",
              "                <td>6</td>\n",
              "                <td>1</td>\n",
              "                <td>0</td>\n",
              "                <td class=\"right\" data-ratio=\"5 6\">83%</td>\n",
              "            </tr>\n",
              "        </tbody>\n",
              "    </table>\n",
              "    <p id=\"no_rows\">\n",
              "        No items found using the specified filter.\n",
              "    </p>\n",
              "</div>\n",
              "<div id=\"footer\">\n",
              "    <div class=\"content\">\n",
              "        <p>\n",
              "            <a class=\"nav\" href=\"https://coverage.readthedocs.io\">coverage.py v5.5</a>,\n",
              "            created at 2021-08-11 18:15 +0000\n",
              "        </p>\n",
              "    </div>\n",
              "</div>\n",
              "</body>\n",
              "</html>\n"
            ],
            "text/plain": [
              "<IPython.core.display.HTML object>"
            ]
          },
          "metadata": {
            "tags": []
          },
          "execution_count": 15
        }
      ]
    },
    {
      "cell_type": "code",
      "metadata": {
        "colab": {
          "base_uri": "https://localhost:8080/",
          "height": 487
        },
        "id": "N1ieWAINRw3u",
        "outputId": "e4824d7a-c6e2-42b6-ceb8-dc904c97024c"
      },
      "source": [
        "\n",
        "HTML(filename='htmlcov/src_super_math_py.html')"
      ],
      "execution_count": null,
      "outputs": [
        {
          "output_type": "execute_result",
          "data": {
            "text/html": [
              "<!DOCTYPE html>\n",
              "<html>\n",
              "<head>\n",
              "    <meta http-equiv=\"Content-Type\" content=\"text/html; charset=utf-8\">\n",
              "    <meta http-equiv=\"X-UA-Compatible\" content=\"IE=emulateIE7\" />\n",
              "    <title>Coverage for src/super_math.py: 83%</title>\n",
              "    <link rel=\"icon\" sizes=\"32x32\" href=\"favicon_32.png\">\n",
              "    <link rel=\"stylesheet\" href=\"style.css\" type=\"text/css\">\n",
              "    <script type=\"text/javascript\" src=\"jquery.min.js\"></script>\n",
              "    <script type=\"text/javascript\" src=\"jquery.hotkeys.js\"></script>\n",
              "    <script type=\"text/javascript\" src=\"jquery.isonscreen.js\"></script>\n",
              "    <script type=\"text/javascript\" src=\"coverage_html.js\"></script>\n",
              "    <script type=\"text/javascript\">\n",
              "        jQuery(document).ready(coverage.pyfile_ready);\n",
              "    </script>\n",
              "</head>\n",
              "<body class=\"pyfile\">\n",
              "<div id=\"header\">\n",
              "    <div class=\"content\">\n",
              "        <h1>Coverage for <b>src/super_math.py</b> :\n",
              "            <span class=\"pc_cov\">83%</span>\n",
              "        </h1>\n",
              "        <img id=\"keyboard_icon\" src=\"keybd_closed.png\" alt=\"Show keyboard shortcuts\" />\n",
              "        <h2 class=\"stats\">\n",
              "            6 statements &nbsp;\n",
              "            <button type=\"button\" class=\"run shortkey_r button_toggle_run\" title=\"Toggle lines run\">5 run</button>\n",
              "            <button type=\"button\" class=\"mis show_mis shortkey_m button_toggle_mis\" title=\"Toggle lines missing\">1 missing</button>\n",
              "            <button type=\"button\" class=\"exc show_exc shortkey_x button_toggle_exc\" title=\"Toggle lines excluded\">0 excluded</button>\n",
              "        </h2>\n",
              "    </div>\n",
              "</div>\n",
              "<div class=\"help_panel\">\n",
              "    <img id=\"panel_icon\" src=\"keybd_open.png\" alt=\"Hide keyboard shortcuts\" />\n",
              "    <p class=\"legend\">Hot-keys on this page</p>\n",
              "    <div>\n",
              "    <p class=\"keyhelp\">\n",
              "        <span class=\"key\">r</span>\n",
              "        <span class=\"key\">m</span>\n",
              "        <span class=\"key\">x</span>\n",
              "        <span class=\"key\">p</span> &nbsp; toggle line displays\n",
              "    </p>\n",
              "    <p class=\"keyhelp\">\n",
              "        <span class=\"key\">j</span>\n",
              "        <span class=\"key\">k</span> &nbsp; next/prev highlighted chunk\n",
              "    </p>\n",
              "    <p class=\"keyhelp\">\n",
              "        <span class=\"key\">0</span> &nbsp; (zero) top of page\n",
              "    </p>\n",
              "    <p class=\"keyhelp\">\n",
              "        <span class=\"key\">1</span> &nbsp; (one) first highlighted chunk\n",
              "    </p>\n",
              "    </div>\n",
              "</div>\n",
              "<div id=\"source\">\n",
              "    <p id=\"t1\" class=\"run\"><span class=\"n\"><a href=\"#t1\">1</a></span><span class=\"t\"><span class=\"key\">def</span> <span class=\"nam\">super_add</span><span class=\"op\">(</span><span class=\"nam\">a</span><span class=\"op\">,</span> <span class=\"nam\">b</span><span class=\"op\">)</span><span class=\"op\">:</span>&nbsp;</span><span class=\"r\"></span></p>\n",
              "    <p id=\"t2\" class=\"run\"><span class=\"n\"><a href=\"#t2\">2</a></span><span class=\"t\">  <span class=\"key\">return</span> <span class=\"nam\">a</span><span class=\"op\">**</span><span class=\"nam\">b</span> <span class=\"op\">+</span> <span class=\"nam\">b</span><span class=\"op\">**</span><span class=\"nam\">a</span>&nbsp;</span><span class=\"r\"></span></p>\n",
              "    <p id=\"t3\" class=\"pln\"><span class=\"n\"><a href=\"#t3\">3</a></span><span class=\"t\">&nbsp;</span><span class=\"r\"></span></p>\n",
              "    <p id=\"t4\" class=\"run\"><span class=\"n\"><a href=\"#t4\">4</a></span><span class=\"t\"><span class=\"key\">def</span> <span class=\"nam\">super_mul</span><span class=\"op\">(</span><span class=\"nam\">a</span><span class=\"op\">,</span> <span class=\"nam\">b</span><span class=\"op\">)</span><span class=\"op\">:</span>&nbsp;</span><span class=\"r\"></span></p>\n",
              "    <p id=\"t5\" class=\"run\"><span class=\"n\"><a href=\"#t5\">5</a></span><span class=\"t\">  <span class=\"key\">return</span> <span class=\"nam\">a</span><span class=\"op\">**</span><span class=\"nam\">b</span> <span class=\"op\">*</span> <span class=\"nam\">b</span><span class=\"op\">**</span><span class=\"nam\">a</span>&nbsp;</span><span class=\"r\"></span></p>\n",
              "    <p id=\"t6\" class=\"pln\"><span class=\"n\"><a href=\"#t6\">6</a></span><span class=\"t\">&nbsp;</span><span class=\"r\"></span></p>\n",
              "    <p id=\"t7\" class=\"run\"><span class=\"n\"><a href=\"#t7\">7</a></span><span class=\"t\"><span class=\"key\">def</span> <span class=\"nam\">super_sub</span><span class=\"op\">(</span><span class=\"nam\">a</span><span class=\"op\">,</span> <span class=\"nam\">b</span><span class=\"op\">)</span><span class=\"op\">:</span>&nbsp;</span><span class=\"r\"></span></p>\n",
              "    <p id=\"t8\" class=\"mis show_mis\"><span class=\"n\"><a href=\"#t8\">8</a></span><span class=\"t\">  <span class=\"key\">return</span> <span class=\"nam\">a</span><span class=\"op\">**</span><span class=\"nam\">b</span> <span class=\"op\">-</span> <span class=\"nam\">b</span><span class=\"op\">**</span><span class=\"nam\">a</span>&nbsp;</span><span class=\"r\"></span></p>\n",
              "</div>\n",
              "<div id=\"footer\">\n",
              "    <div class=\"content\">\n",
              "        <p>\n",
              "            <a class=\"nav\" href=\"index.html\">&#xab; index</a> &nbsp; &nbsp; <a class=\"nav\" href=\"https://coverage.readthedocs.io\">coverage.py v5.5</a>,\n",
              "            created at 2021-08-11 18:15 +0000\n",
              "        </p>\n",
              "    </div>\n",
              "</div>\n",
              "</body>\n",
              "</html>\n"
            ],
            "text/plain": [
              "<IPython.core.display.HTML object>"
            ]
          },
          "metadata": {
            "tags": []
          },
          "execution_count": 16
        }
      ]
    },
    {
      "cell_type": "markdown",
      "metadata": {
        "id": "3wWl1bFMSdVI"
      },
      "source": [
        "# Mock\n",
        "\n",
        "swapping out pieces of the system to isolate bits of our code."
      ]
    },
    {
      "cell_type": "code",
      "metadata": {
        "colab": {
          "base_uri": "https://localhost:8080/"
        },
        "id": "BYaVMTwTVmDM",
        "outputId": "ab6ce527-523a-4043-bdea-3ddf64ad3f56"
      },
      "source": [
        "!pip install pytest-mock"
      ],
      "execution_count": null,
      "outputs": [
        {
          "output_type": "stream",
          "text": [
            "Collecting pytest-mock\n",
            "  Downloading pytest_mock-3.6.1-py3-none-any.whl (12 kB)\n",
            "Requirement already satisfied: pytest>=5.0 in /usr/local/lib/python3.7/dist-packages (from pytest-mock) (6.2.4)\n",
            "Requirement already satisfied: py>=1.8.2 in /usr/local/lib/python3.7/dist-packages (from pytest>=5.0->pytest-mock) (1.10.0)\n",
            "Requirement already satisfied: attrs>=19.2.0 in /usr/local/lib/python3.7/dist-packages (from pytest>=5.0->pytest-mock) (21.2.0)\n",
            "Requirement already satisfied: iniconfig in /usr/local/lib/python3.7/dist-packages (from pytest>=5.0->pytest-mock) (1.1.1)\n",
            "Requirement already satisfied: packaging in /usr/local/lib/python3.7/dist-packages (from pytest>=5.0->pytest-mock) (21.0)\n",
            "Requirement already satisfied: pluggy<1.0.0a1,>=0.12 in /usr/local/lib/python3.7/dist-packages (from pytest>=5.0->pytest-mock) (0.13.1)\n",
            "Requirement already satisfied: importlib-metadata>=0.12 in /usr/local/lib/python3.7/dist-packages (from pytest>=5.0->pytest-mock) (4.6.1)\n",
            "Requirement already satisfied: toml in /usr/local/lib/python3.7/dist-packages (from pytest>=5.0->pytest-mock) (0.10.2)\n",
            "Requirement already satisfied: typing-extensions>=3.6.4 in /usr/local/lib/python3.7/dist-packages (from importlib-metadata>=0.12->pytest>=5.0->pytest-mock) (3.7.4.3)\n",
            "Requirement already satisfied: zipp>=0.5 in /usr/local/lib/python3.7/dist-packages (from importlib-metadata>=0.12->pytest>=5.0->pytest-mock) (3.5.0)\n",
            "Requirement already satisfied: pyparsing>=2.0.2 in /usr/local/lib/python3.7/dist-packages (from packaging->pytest>=5.0->pytest-mock) (2.4.7)\n",
            "Installing collected packages: pytest-mock\n",
            "Successfully installed pytest-mock-3.6.1\n"
          ],
          "name": "stdout"
        }
      ]
    },
    {
      "cell_type": "code",
      "metadata": {
        "id": "gaAI_fn9T9ku"
      },
      "source": [
        "!rm * -fr"
      ],
      "execution_count": null,
      "outputs": []
    },
    {
      "cell_type": "code",
      "metadata": {
        "colab": {
          "base_uri": "https://localhost:8080/"
        },
        "id": "gpy_46SHTAnU",
        "outputId": "17d31384-60b6-40ea-c4c7-8926a01b576e"
      },
      "source": [
        "%%writefile cli.py\n",
        "import click\n",
        "from contextlib import contextmanager\n",
        "\n",
        "@contextmanager\n",
        "def db():\n",
        "  print('Starting')\n",
        "  raise ImportError(\"OH NO!\")\n",
        "  yield\n",
        "  print('Ending')\n",
        "\n",
        "@click.group(context_settings={'help_option_names': ['-h', '--help']})\n",
        "@click.version_option(version='1.0')\n",
        "def open_db():\n",
        "  with db:\n",
        "    assert True"
      ],
      "execution_count": null,
      "outputs": [
        {
          "output_type": "stream",
          "text": [
            "Writing cli.py\n"
          ],
          "name": "stdout"
        }
      ]
    },
    {
      "cell_type": "code",
      "metadata": {
        "colab": {
          "base_uri": "https://localhost:8080/"
        },
        "id": "uEmF6z--T8UT",
        "outputId": "f9e10d91-9a4f-417c-9a68-4fc500bf2655"
      },
      "source": [
        "%%writefile test_cli.py\n",
        "from click.testing import CliRunner\n",
        "from contextlib import contextmanager\n",
        "import pytest\n",
        "import cli\n",
        "\n",
        "@contextmanager\n",
        "def stub_db():\n",
        "  print('Starting fake one')\n",
        "  yield\n",
        "  print('Ending fake one')\n",
        "\n",
        "def test_func_no_args(mocker):\n",
        "  mocker.patch.object(cli, 'db', new=stub_db)\n",
        "  mocker.patch.object(cli.open_db, None, return_value=[])\n",
        "  runner = CliRunner()\n",
        "  runner.invoke(cli.open_db)\n",
        "  cli.open_db.assert_called_once_with(None)"
      ],
      "execution_count": null,
      "outputs": [
        {
          "output_type": "stream",
          "text": [
            "Writing test_cli.py\n"
          ],
          "name": "stdout"
        }
      ]
    },
    {
      "cell_type": "code",
      "metadata": {
        "colab": {
          "base_uri": "https://localhost:8080/"
        },
        "id": "amxx37NvUXKE",
        "outputId": "506171a8-8165-4e97-f2d7-92d2d9791298"
      },
      "source": [
        "!pytest"
      ],
      "execution_count": null,
      "outputs": [
        {
          "output_type": "stream",
          "text": [
            "\u001b[1m============================= test session starts ==============================\u001b[0m\n",
            "platform linux -- Python 3.7.11, pytest-6.2.4, py-1.10.0, pluggy-0.13.1\n",
            "rootdir: /content\n",
            "plugins: cov-2.12.1, mock-3.6.1, typeguard-2.7.1\n",
            "\u001b[1mcollecting ... \u001b[0m\u001b[1m\rcollected 1 item                                                               \u001b[0m\n",
            "\n",
            "test_cli.py \u001b[31mF\u001b[0m\u001b[31m                                                            [100%]\u001b[0m\n",
            "\n",
            "=================================== FAILURES ===================================\n",
            "\u001b[31m\u001b[1m______________________________ test_func_no_args _______________________________\u001b[0m\n",
            "\n",
            "self = <unittest.mock._patch object at 0x7fbf84302850>\n",
            "\n",
            "    \u001b[94mdef\u001b[39;49;00m \u001b[92mget_original\u001b[39;49;00m(\u001b[96mself\u001b[39;49;00m):\n",
            "        target = \u001b[96mself\u001b[39;49;00m.getter()\n",
            "        name = \u001b[96mself\u001b[39;49;00m.attribute\n",
            "    \n",
            "        original = DEFAULT\n",
            "        local = \u001b[94mFalse\u001b[39;49;00m\n",
            "    \n",
            "        \u001b[94mtry\u001b[39;49;00m:\n",
            ">           original = target.\u001b[91m__dict__\u001b[39;49;00m[name]\n",
            "\u001b[1m\u001b[31mE           KeyError: None\u001b[0m\n",
            "\n",
            "\u001b[1m\u001b[31m/usr/lib/python3.7/unittest/mock.py\u001b[0m:1270: KeyError\n",
            "\n",
            "\u001b[33mDuring handling of the above exception, another exception occurred:\u001b[0m\n",
            "\n",
            "mocker = <pytest_mock.plugin.MockerFixture object at 0x7fbf84302690>\n",
            "\n",
            "    \u001b[94mdef\u001b[39;49;00m \u001b[92mtest_func_no_args\u001b[39;49;00m(mocker):\n",
            "      mocker.patch.object(cli, \u001b[33m'\u001b[39;49;00m\u001b[33mdb\u001b[39;49;00m\u001b[33m'\u001b[39;49;00m, new=stub_db)\n",
            ">     mocker.patch.object(cli.open_db, \u001b[94mNone\u001b[39;49;00m, return_value=[])\n",
            "\n",
            "\u001b[1m\u001b[31mtest_cli.py\u001b[0m:14: \n",
            "_ _ _ _ _ _ _ _ _ _ _ _ _ _ _ _ _ _ _ _ _ _ _ _ _ _ _ _ _ _ _ _ _ _ _ _ _ _ _ _ \n",
            "\u001b[1m\u001b[31m/usr/local/lib/python3.7/dist-packages/pytest_mock/plugin.py\u001b[0m:230: in object\n",
            "    **kwargs\n",
            "\u001b[1m\u001b[31m/usr/local/lib/python3.7/dist-packages/pytest_mock/plugin.py\u001b[0m:183: in _start_patch\n",
            "    mocked = p.start()  \u001b[90m# type: unittest.mock.MagicMock\u001b[39;49;00m\n",
            "\u001b[1m\u001b[31m/usr/lib/python3.7/unittest/mock.py\u001b[0m:1442: in start\n",
            "    result = \u001b[96mself\u001b[39;49;00m.\u001b[92m__enter__\u001b[39;49;00m()\n",
            "\u001b[1m\u001b[31m/usr/lib/python3.7/unittest/mock.py\u001b[0m:1307: in __enter__\n",
            "    original, local = \u001b[96mself\u001b[39;49;00m.get_original()\n",
            "_ _ _ _ _ _ _ _ _ _ _ _ _ _ _ _ _ _ _ _ _ _ _ _ _ _ _ _ _ _ _ _ _ _ _ _ _ _ _ _ \n",
            "\n",
            "self = <unittest.mock._patch object at 0x7fbf84302850>\n",
            "\n",
            "    \u001b[94mdef\u001b[39;49;00m \u001b[92mget_original\u001b[39;49;00m(\u001b[96mself\u001b[39;49;00m):\n",
            "        target = \u001b[96mself\u001b[39;49;00m.getter()\n",
            "        name = \u001b[96mself\u001b[39;49;00m.attribute\n",
            "    \n",
            "        original = DEFAULT\n",
            "        local = \u001b[94mFalse\u001b[39;49;00m\n",
            "    \n",
            "        \u001b[94mtry\u001b[39;49;00m:\n",
            "            original = target.\u001b[91m__dict__\u001b[39;49;00m[name]\n",
            "        \u001b[94mexcept\u001b[39;49;00m (\u001b[96mAttributeError\u001b[39;49;00m, \u001b[96mKeyError\u001b[39;49;00m):\n",
            ">           original = \u001b[96mgetattr\u001b[39;49;00m(target, name, DEFAULT)\n",
            "\u001b[1m\u001b[31mE           TypeError: getattr(): attribute name must be string\u001b[0m\n",
            "\n",
            "\u001b[1m\u001b[31m/usr/lib/python3.7/unittest/mock.py\u001b[0m:1272: TypeError\n",
            "=========================== short test summary info ============================\n",
            "FAILED test_cli.py::test_func_no_args - TypeError: getattr(): attribute name ...\n",
            "\u001b[31m============================== \u001b[31m\u001b[1m1 failed\u001b[0m\u001b[31m in 0.25s\u001b[0m\u001b[31m ===============================\u001b[0m\n"
          ],
          "name": "stdout"
        }
      ]
    },
    {
      "cell_type": "markdown",
      "metadata": {
        "id": "w9IwcgfmaT7y"
      },
      "source": [
        "# tox\n",
        "\n"
      ]
    },
    {
      "cell_type": "code",
      "metadata": {
        "id": "nhkHvj1tVgE3",
        "colab": {
          "base_uri": "https://localhost:8080/"
        },
        "outputId": "031f5352-9b97-4abe-917d-b05e0546cb37"
      },
      "source": [
        "!pip install tox"
      ],
      "execution_count": null,
      "outputs": [
        {
          "output_type": "stream",
          "text": [
            "Requirement already satisfied: tox in /usr/local/lib/python3.7/dist-packages (3.24.1)\n",
            "Requirement already satisfied: filelock>=3.0.0 in /usr/local/lib/python3.7/dist-packages (from tox) (3.0.12)\n",
            "Requirement already satisfied: importlib-metadata>=0.12 in /usr/local/lib/python3.7/dist-packages (from tox) (4.6.1)\n",
            "Requirement already satisfied: pluggy>=0.12.0 in /usr/local/lib/python3.7/dist-packages (from tox) (0.13.1)\n",
            "Requirement already satisfied: virtualenv!=20.0.0,!=20.0.1,!=20.0.2,!=20.0.3,!=20.0.4,!=20.0.5,!=20.0.6,!=20.0.7,>=16.0.0 in /usr/local/lib/python3.7/dist-packages (from tox) (20.7.2)\n",
            "Requirement already satisfied: py>=1.4.17 in /usr/local/lib/python3.7/dist-packages (from tox) (1.10.0)\n",
            "Requirement already satisfied: packaging>=14 in /usr/local/lib/python3.7/dist-packages (from tox) (21.0)\n",
            "Requirement already satisfied: toml>=0.9.4 in /usr/local/lib/python3.7/dist-packages (from tox) (0.10.2)\n",
            "Requirement already satisfied: six>=1.14.0 in /usr/local/lib/python3.7/dist-packages (from tox) (1.15.0)\n",
            "Requirement already satisfied: zipp>=0.5 in /usr/local/lib/python3.7/dist-packages (from importlib-metadata>=0.12->tox) (3.5.0)\n",
            "Requirement already satisfied: typing-extensions>=3.6.4 in /usr/local/lib/python3.7/dist-packages (from importlib-metadata>=0.12->tox) (3.7.4.3)\n",
            "Requirement already satisfied: pyparsing>=2.0.2 in /usr/local/lib/python3.7/dist-packages (from packaging>=14->tox) (2.4.7)\n",
            "Requirement already satisfied: backports.entry-points-selectable>=1.0.4 in /usr/local/lib/python3.7/dist-packages (from virtualenv!=20.0.0,!=20.0.1,!=20.0.2,!=20.0.3,!=20.0.4,!=20.0.5,!=20.0.6,!=20.0.7,>=16.0.0->tox) (1.1.0)\n",
            "Requirement already satisfied: platformdirs<3,>=2 in /usr/local/lib/python3.7/dist-packages (from virtualenv!=20.0.0,!=20.0.1,!=20.0.2,!=20.0.3,!=20.0.4,!=20.0.5,!=20.0.6,!=20.0.7,>=16.0.0->tox) (2.2.0)\n",
            "Requirement already satisfied: distlib<1,>=0.3.1 in /usr/local/lib/python3.7/dist-packages (from virtualenv!=20.0.0,!=20.0.1,!=20.0.2,!=20.0.3,!=20.0.4,!=20.0.5,!=20.0.6,!=20.0.7,>=16.0.0->tox) (0.3.2)\n"
          ],
          "name": "stdout"
        }
      ]
    },
    {
      "cell_type": "code",
      "metadata": {
        "id": "S_gcI6UbbYlD"
      },
      "source": [
        "!rm * -rfv"
      ],
      "execution_count": null,
      "outputs": []
    },
    {
      "cell_type": "code",
      "metadata": {
        "colab": {
          "base_uri": "https://localhost:8080/"
        },
        "id": "lWuhBIPiagc5",
        "outputId": "9d737efc-f137-438e-d216-88379e7ff37b"
      },
      "source": [
        "%%writefile tox.ini\n",
        "\n",
        "[tox]\n",
        "envlist=py27,py36\n",
        "\n",
        "[testenv]\n",
        "deps=pytest\n",
        "commands=pytest"
      ],
      "execution_count": null,
      "outputs": [
        {
          "output_type": "stream",
          "text": [
            "Writing tox.ini\n"
          ],
          "name": "stdout"
        }
      ]
    },
    {
      "cell_type": "code",
      "metadata": {
        "colab": {
          "base_uri": "https://localhost:8080/"
        },
        "id": "hUpJ3DlYb82E",
        "outputId": "1a61b46d-12ef-4362-a660-fa89e9d77e2a"
      },
      "source": [
        "%%writefile setup.py\n",
        "from distutils.core import setup\n",
        "\n",
        "setup(name='Distutils',\n",
        "      version='1.0',\n",
        "      description='Python Distribution Utilities',\n",
        "      author='Greg Ward',\n",
        "      author_email='gward@python.net',\n",
        "      url='https://www.python.org/sigs/distutils-sig/'\n",
        "     )"
      ],
      "execution_count": null,
      "outputs": [
        {
          "output_type": "stream",
          "text": [
            "Overwriting setup.py\n"
          ],
          "name": "stdout"
        }
      ]
    },
    {
      "cell_type": "code",
      "metadata": {
        "colab": {
          "base_uri": "https://localhost:8080/"
        },
        "id": "3VdW7l6ebjjt",
        "outputId": "e20ec5ac-18dc-4287-c713-a2d28206724e"
      },
      "source": [
        "%%writefile test_me.py\n",
        "\n",
        "def test_this():\n",
        "  assert True\n",
        "\n",
        "def test_that():\n",
        "  name = 'cat'\n",
        "  assert f'the {name}' == 'the cat'"
      ],
      "execution_count": null,
      "outputs": [
        {
          "output_type": "stream",
          "text": [
            "Overwriting test_me.py\n"
          ],
          "name": "stdout"
        }
      ]
    },
    {
      "cell_type": "code",
      "metadata": {
        "colab": {
          "base_uri": "https://localhost:8080/"
        },
        "id": "TbYYz7TsbzIy",
        "outputId": "26aa304d-2130-4c94-f49c-df787ce27ceb"
      },
      "source": [
        "!tox"
      ],
      "execution_count": null,
      "outputs": [
        {
          "output_type": "stream",
          "text": [
            "\u001b[1mGLOB sdist-make: /content/setup.py\n",
            "\u001b[0m\u001b[1mpy27 create: /content/.tox/py27\n",
            "\u001b[0m\u001b[1mpy27 installdeps: pytest\n",
            "\u001b[0m\u001b[31mWARNING: Discarding $PYTHONPATH from environment, to override specify PYTHONPATH in 'passenv' in your configuration.\n",
            "\u001b[0m\u001b[1mpy27 inst: /content/.tox/.tmp/package/1/Distutils-1.0.zip\n",
            "\u001b[0m\u001b[31mWARNING: Discarding $PYTHONPATH from environment, to override specify PYTHONPATH in 'passenv' in your configuration.\n",
            "\u001b[0m\u001b[1mpy27 installed: atomicwrites==1.4.0,attrs==21.2.0,backports.functools-lru-cache==1.6.4,configparser==4.0.2,contextlib2==0.6.0.post1,Distutils @ file:///content/.tox/.tmp/package/1/Distutils-1.0.zip,funcsigs==1.0.2,importlib-metadata==2.1.1,more-itertools==5.0.0,packaging==20.9,pathlib2==2.3.6,pluggy==0.13.1,py==1.10.0,pyparsing==2.4.7,pytest==4.6.11,scandir==1.10.0,six==1.16.0,wcwidth==0.2.5,zipp==1.2.0\n",
            "\u001b[0m\u001b[1mpy27 run-test-pre: PYTHONHASHSEED='1835741550'\n",
            "\u001b[0m\u001b[1mpy27 run-test: commands[0] | pytest\n",
            "\u001b[0m\u001b[1m============================= test session starts ==============================\u001b[0m\n",
            "platform linux2 -- Python 2.7.17, pytest-4.6.11, py-1.10.0, pluggy-0.13.1\n",
            "cachedir: .tox/py27/.pytest_cache\n",
            "rootdir: /content\n",
            "collected 0 items / 1 errors                                                   \u001b[0m\n",
            "\n",
            "==================================== ERRORS ====================================\n",
            "\u001b[1m\u001b[31m_________________________ ERROR collecting test_me.py __________________________\u001b[0m\n",
            "\u001b[31m.tox/py27/lib/python2.7/site-packages/_pytest/python.py:507: in _importtestmodule\n",
            "    mod = self.fspath.pyimport(ensuresyspath=importmode)\n",
            ".tox/py27/lib/python2.7/site-packages/py/_path/local.py:704: in pyimport\n",
            "    __import__(modname)\n",
            "E     File \"/content/test_me.py\", line 7\n",
            "E       assert f'the {name}' == 'the cat'\n",
            "E                          ^\n",
            "E   SyntaxError: invalid syntax\u001b[0m\n",
            "!!!!!!!!!!!!!!!!!!! Interrupted: 1 errors during collection !!!!!!!!!!!!!!!!!!!!\n",
            "\u001b[1m\u001b[31m=========================== 1 error in 0.11 seconds ============================\u001b[0m\n",
            "\u001b[31mERROR: InvocationError for command /content/.tox/py27/bin/pytest (exited with code 2)\n",
            "\u001b[0m\u001b[1mpy36 create: /content/.tox/py36\n",
            "\u001b[0m\u001b[1mpy36 installdeps: pytest\n",
            "\u001b[0m\u001b[31mWARNING: Discarding $PYTHONPATH from environment, to override specify PYTHONPATH in 'passenv' in your configuration.\n",
            "\u001b[0m\u001b[1mpy36 inst: /content/.tox/.tmp/package/1/Distutils-1.0.zip\n",
            "\u001b[0m\u001b[31mWARNING: Discarding $PYTHONPATH from environment, to override specify PYTHONPATH in 'passenv' in your configuration.\n",
            "\u001b[0m\u001b[1mpy36 installed: attrs==21.2.0,Distutils @ file:///content/.tox/.tmp/package/1/Distutils-1.0.zip,importlib-metadata==4.6.3,iniconfig==1.1.1,packaging==21.0,pluggy==0.13.1,py==1.10.0,pyparsing==2.4.7,pytest==6.2.4,toml==0.10.2,typing-extensions==3.10.0.0,zipp==3.5.0\n",
            "\u001b[0m\u001b[1mpy36 run-test-pre: PYTHONHASHSEED='1835741550'\n",
            "\u001b[0m\u001b[1mpy36 run-test: commands[0] | pytest\n",
            "\u001b[0m\u001b[1m============================= test session starts ==============================\u001b[0m\n",
            "platform linux -- Python 3.6.9, pytest-6.2.4, py-1.10.0, pluggy-0.13.1\n",
            "cachedir: .tox/py36/.pytest_cache\n",
            "rootdir: /content\n",
            "collected 2 items                                                              \u001b[0m\n",
            "\n",
            "test_me.py \u001b[32m.\u001b[0m\u001b[32m.\u001b[0m\u001b[32m                                                            [100%]\u001b[0m\n",
            "\n",
            "\u001b[32m============================== \u001b[32m\u001b[1m2 passed\u001b[0m\u001b[32m in 0.01s\u001b[0m\u001b[32m ===============================\u001b[0m\n",
            "___________________________________ summary ____________________________________\n",
            "\u001b[31mERROR:   py27: commands failed\n",
            "\u001b[0m\u001b[32m  py36: commands succeeded\n",
            "\u001b[0m"
          ],
          "name": "stdout"
        }
      ]
    },
    {
      "cell_type": "code",
      "metadata": {
        "colab": {
          "base_uri": "https://localhost:8080/"
        },
        "id": "rvyQCTQ8b0mW",
        "outputId": "c11e615e-0b28-47d0-befb-25bd5aedbcc0"
      },
      "source": [
        "!pip install pytest-emoji"
      ],
      "execution_count": null,
      "outputs": [
        {
          "output_type": "stream",
          "text": [
            "Collecting pytest-emoji\n",
            "  Downloading pytest_emoji-0.2.0-py3-none-any.whl (5.7 kB)\n",
            "Requirement already satisfied: pytest>=4.2.1 in /usr/local/lib/python3.7/dist-packages (from pytest-emoji) (6.2.4)\n",
            "Requirement already satisfied: importlib-metadata>=0.12 in /usr/local/lib/python3.7/dist-packages (from pytest>=4.2.1->pytest-emoji) (4.6.1)\n",
            "Requirement already satisfied: toml in /usr/local/lib/python3.7/dist-packages (from pytest>=4.2.1->pytest-emoji) (0.10.2)\n",
            "Requirement already satisfied: packaging in /usr/local/lib/python3.7/dist-packages (from pytest>=4.2.1->pytest-emoji) (21.0)\n",
            "Requirement already satisfied: py>=1.8.2 in /usr/local/lib/python3.7/dist-packages (from pytest>=4.2.1->pytest-emoji) (1.10.0)\n",
            "Requirement already satisfied: iniconfig in /usr/local/lib/python3.7/dist-packages (from pytest>=4.2.1->pytest-emoji) (1.1.1)\n",
            "Requirement already satisfied: pluggy<1.0.0a1,>=0.12 in /usr/local/lib/python3.7/dist-packages (from pytest>=4.2.1->pytest-emoji) (0.13.1)\n",
            "Requirement already satisfied: attrs>=19.2.0 in /usr/local/lib/python3.7/dist-packages (from pytest>=4.2.1->pytest-emoji) (21.2.0)\n",
            "Requirement already satisfied: zipp>=0.5 in /usr/local/lib/python3.7/dist-packages (from importlib-metadata>=0.12->pytest>=4.2.1->pytest-emoji) (3.5.0)\n",
            "Requirement already satisfied: typing-extensions>=3.6.4 in /usr/local/lib/python3.7/dist-packages (from importlib-metadata>=0.12->pytest>=4.2.1->pytest-emoji) (3.7.4.3)\n",
            "Requirement already satisfied: pyparsing>=2.0.2 in /usr/local/lib/python3.7/dist-packages (from packaging->pytest>=4.2.1->pytest-emoji) (2.4.7)\n",
            "Installing collected packages: pytest-emoji\n",
            "Successfully installed pytest-emoji-0.2.0\n"
          ],
          "name": "stdout"
        }
      ]
    },
    {
      "cell_type": "code",
      "metadata": {
        "id": "nhiWN4GYdexX",
        "outputId": "2cf7d882-15a6-4c09-bfbe-dd0666470518",
        "colab": {
          "base_uri": "https://localhost:8080/"
        }
      },
      "source": [
        "!pytest -v"
      ],
      "execution_count": null,
      "outputs": [
        {
          "output_type": "stream",
          "text": [
            "\u001b[1m============================= test session starts ==============================\u001b[0m\n",
            "platform linux -- Python 3.7.11, pytest-6.2.4, py-1.10.0, pluggy-0.13.1 -- /usr/bin/python3\n",
            "cachedir: .pytest_cache\n",
            "rootdir: /content\n",
            "plugins: cov-2.12.1, mock-3.6.1, emoji-0.2.0, typeguard-2.7.1\n",
            "\u001b[1mcollecting ... \u001b[0m\u001b[1m\rcollected 2 items                                                              \u001b[0m\n",
            "\n",
            "test_me.py::test_this \u001b[32mPASSED\u001b[0m\u001b[32m                                             [ 50%]\u001b[0m\n",
            "test_me.py::test_that \u001b[32mPASSED\u001b[0m\u001b[32m                                             [100%]\u001b[0m\n",
            "\n",
            "\u001b[32m============================== \u001b[32m\u001b[1m2 passed\u001b[0m\u001b[32m in 0.01s\u001b[0m\u001b[32m ===============================\u001b[0m\n"
          ],
          "name": "stdout"
        }
      ]
    },
    {
      "cell_type": "code",
      "metadata": {
        "id": "4GFngrVPdjht"
      },
      "source": [
        ""
      ],
      "execution_count": null,
      "outputs": []
    }
  ]
}